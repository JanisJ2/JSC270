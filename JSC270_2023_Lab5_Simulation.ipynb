{
  "nbformat": 4,
  "nbformat_minor": 0,
  "metadata": {
    "colab": {
      "provenance": [],
      "collapsed_sections": [
        "JqX-cRu9KW_k",
        "0bZiSh-JceEx",
        "qO3H1yyKt-r8",
        "-cXPN8bRuTDF",
        "tEG-gJcp6Xb9",
        "zTISKLhR_cGn",
        "SkYgN6qcALK-",
        "oTDazPhotK1R",
        "YYTqY07JCw4l",
        "IoU1vDbKHbko",
        "niVqtcZpcSFq",
        "EB9Pf9Z4viNq",
        "KpJ53akAvPky"
      ]
    },
    "kernelspec": {
      "name": "python3",
      "display_name": "Python 3"
    }
  },
  "cells": [
    {
      "cell_type": "markdown",
      "metadata": {
        "id": "KIzMheleL9Nx"
      },
      "source": [
        "#Lab 5: Simulation"
      ]
    },
    {
      "cell_type": "markdown",
      "metadata": {
        "id": "JqX-cRu9KW_k"
      },
      "source": [
        "##Simulating Coin Tosses"
      ]
    },
    {
      "cell_type": "markdown",
      "metadata": {
        "id": "0bZiSh-JceEx"
      },
      "source": [
        "##### Let's start by building a coin flip simulator!\n",
        "\n",
        "##### We'll define a function that is a \"coin flipper\", taking the argument:\n",
        ">##### heads_prob: the probability of heads\n",
        "##### and returns:\n",
        ">##### 1 if heads, 0 if tails"
      ]
    },
    {
      "cell_type": "code",
      "metadata": {
        "id": "oXmr_G53Jko1"
      },
      "source": [
        "## import bernoulli class from scipy.stats library\n",
        "from scipy.stats import bernoulli\n",
        "\n",
        "## define function\n",
        "def coin_flipper(heads_prob):\n",
        "\n",
        "  heads = bernoulli.rvs(p=heads_prob, size=1)\n",
        "\n",
        "  return heads[0] ## adding the [0] pulls the value out of the array"
      ],
      "execution_count": null,
      "outputs": []
    },
    {
      "cell_type": "markdown",
      "metadata": {
        "id": "qO3H1yyKt-r8"
      },
      "source": [
        "### Discussion Question 1\n",
        "####Run a few trials of *coin_flipper*.  Are you seeing what you expect?"
      ]
    },
    {
      "cell_type": "code",
      "metadata": {
        "id": "uYQOhXUVXpWA"
      },
      "source": [
        "import numpy as np\n",
        "np.random.seed(2121)\n",
        "pro = 0.9\n"
      ],
      "execution_count": null,
      "outputs": []
    },
    {
      "cell_type": "markdown",
      "source": [
        " #### How can you confirm with a simulation?"
      ],
      "metadata": {
        "id": "F473CceJxr4-"
      }
    },
    {
      "cell_type": "code",
      "source": [
        "re = [coin_flipper(pro) for n in range(1, 1000)]\n",
        "sum(re)/len(re)"
      ],
      "metadata": {
        "id": "SEmx1rsQxtY5",
        "colab": {
          "base_uri": "https://localhost:8080/"
        },
        "outputId": "bba2e7f0-9c30-4903-fd34-1628abb0aeb3"
      },
      "execution_count": null,
      "outputs": [
        {
          "output_type": "execute_result",
          "data": {
            "text/plain": [
              "0.8898898898898899"
            ]
          },
          "metadata": {},
          "execution_count": 10
        }
      ]
    },
    {
      "cell_type": "markdown",
      "source": [
        "### Discussion Question 2\n",
        "\n",
        "#### Before moving on to the next exercise, can anyone remember the difference between a binomial and a bernoulli distribution?"
      ],
      "metadata": {
        "id": "uTro77-CfJYb"
      }
    },
    {
      "cell_type": "code",
      "source": [],
      "metadata": {
        "id": "29YBirMzfZxK"
      },
      "execution_count": null,
      "outputs": []
    },
    {
      "cell_type": "markdown",
      "metadata": {
        "id": "JgO0vgoLNOYx"
      },
      "source": [
        "### Exercise 1\n",
        "\n",
        "##### Now define two \"heads_counter\" functions that take arguments:\n",
        ">##### heads_prob, the probability of heads\n",
        ">##### n_flips, the number of flips\n",
        "##### and each return:\n",
        ">##### k, the number of heads\n",
        "\n",
        "##### Make one function using your *coin_flipper* function from above and the other function using a *binomial random value generator*.\n",
        "\n",
        "##### Check out the [scipy documentation](https://docs.scipy.org/doc/scipy/reference/stats.html) to see how you can generate realizations from a binomial distribution.  This site also gives a complete list of available distributions in the stats module.\n",
        "\n",
        "##### Compare the outputs of your two functions for a 50 flips with a probability of heads equal to 0.5."
      ]
    },
    {
      "cell_type": "code",
      "metadata": {
        "id": "c9Jokc_YYTaS"
      },
      "source": [
        "### Define heads_counter1 using coin_flipper which relies on\n",
        "### on the bernoulli random variable generator.\n",
        "\n",
        "def heads_counter1(pro, n):\n",
        "  count = 0\n",
        "  for i in range(n):\n",
        "    count += coin_flipper(pro)\n",
        "  return count\n",
        "\n"
      ],
      "execution_count": null,
      "outputs": []
    },
    {
      "cell_type": "code",
      "metadata": {
        "id": "BxK0FakIZhhC"
      },
      "source": [
        "### Define heads_counter2 using binomial random variable generator.\n",
        "from scipy.stats import binom\n",
        "def heads_counter2(pro, n):\n",
        "  count = 0\n",
        "  count += binom.rvs(n=n,p=pro,size=1)\n",
        "  return count[0]\n",
        "\n"
      ],
      "execution_count": null,
      "outputs": []
    },
    {
      "cell_type": "code",
      "metadata": {
        "colab": {
          "base_uri": "https://localhost:8080/"
        },
        "id": "2KnCNPJ_zovL",
        "outputId": "d1b77e97-b573-48bf-c7bd-6aec0efe7df9"
      },
      "source": [
        "### Compare output from each function\n",
        "print(heads_counter1(0.5,100))\n",
        "print(heads_counter2(0.5,100))"
      ],
      "execution_count": null,
      "outputs": [
        {
          "output_type": "stream",
          "name": "stdout",
          "text": [
            "44\n",
            "50\n"
          ]
        }
      ]
    },
    {
      "cell_type": "markdown",
      "metadata": {
        "id": "rmkWaRSR4z9h"
      },
      "source": [
        "#### Suppose we want to test if the two *heads_counter* functions output systematically different counts.\n",
        "\n",
        "### Discussion Question 3: How should we go about doing this?"
      ]
    },
    {
      "cell_type": "code",
      "source": [],
      "metadata": {
        "id": "7IAQB81hzYzs"
      },
      "execution_count": null,
      "outputs": []
    },
    {
      "cell_type": "markdown",
      "metadata": {
        "id": "-cXPN8bRuTDF"
      },
      "source": [
        "#### Let's go through it together. First, define a function *heads_diff* which draw samples from each of these heads_counter functions and compares them, taking as arguments:\n",
        ">##### rs, the number of times to sample from each function\n",
        ">##### n, the number of flips\n",
        ">##### p, the probability of heads\n",
        "\n",
        "##### and returns:\n",
        ">##### a list output from *heads_counter1*\n",
        ">##### a list output from *heads_counter2*"
      ]
    },
    {
      "cell_type": "code",
      "metadata": {
        "id": "1Jwwl2vV487Q"
      },
      "source": [
        "resample_size = 1000\n",
        "n_flips = 50\n",
        "heads_p = 0.5\n",
        "\n",
        "def heads_diff(rs, n, p):\n",
        "\n",
        "  hc1 = [heads_counter1(p, n) for i in range(rs)]\n",
        "  hc2 = [heads_counter2(p, n) for i in range(rs)]\n",
        "\n",
        "  return hc1, hc2\n",
        "\n",
        "h1,h2 = heads_diff(rs=resample_size,n=n_flips,p=heads_p)"
      ],
      "execution_count": null,
      "outputs": []
    },
    {
      "cell_type": "markdown",
      "metadata": {
        "id": "tEG-gJcp6Xb9"
      },
      "source": [
        "####Next, plot your data and test your hypothesis"
      ]
    },
    {
      "cell_type": "code",
      "metadata": {
        "colab": {
          "base_uri": "https://localhost:8080/",
          "height": 430
        },
        "id": "IFxSS5JW5zpj",
        "outputId": "d2faf7bc-7704-4c43-e355-7005cd1d6c04"
      },
      "source": [
        "### plot\n",
        "import matplotlib.pyplot as plt\n",
        "\n",
        "plt.hist(h1, alpha=0.5, label=\"BernSum\")\n",
        "plt.hist(h2, alpha=0.5, label=\"Binomial\")\n",
        "plt.legend(loc='upper right')\n",
        "plt.show()"
      ],
      "execution_count": null,
      "outputs": [
        {
          "output_type": "display_data",
          "data": {
            "text/plain": [
              "<Figure size 640x480 with 1 Axes>"
            ],
            "image/png": "[encoded data removed]"
          },
          "metadata": {}
        }
      ]
    },
    {
      "cell_type": "code",
      "metadata": {
        "colab": {
          "base_uri": "https://localhost:8080/"
        },
        "id": "ScdK3Ufc9ln3",
        "outputId": "41c804c0-46fa-4982-8f18-2c11ffdf0849"
      },
      "source": [
        "## Non-parametric, Wilcoxon test\n",
        "\n",
        "from scipy.stats import wilcoxon\n",
        "\n",
        "wilcoxon(h1,h2)\n"
      ],
      "execution_count": null,
      "outputs": [
        {
          "output_type": "execute_result",
          "data": {
            "text/plain": [
              "WilcoxonResult(statistic=205226.0, pvalue=0.29674236204939897)"
            ]
          },
          "metadata": {},
          "execution_count": 40
        }
      ]
    },
    {
      "cell_type": "code",
      "metadata": {
        "colab": {
          "base_uri": "https://localhost:8080/"
        },
        "id": "jq9CFXMA_CnM",
        "outputId": "330a2a98-f8dd-4cb5-82f3-dbe1267cfd99"
      },
      "source": [
        "## parametric independent samples t-test\n",
        "\n",
        "from scipy.stats import ttest_ind\n",
        "\n",
        "ttest_ind(h1,h2)"
      ],
      "execution_count": null,
      "outputs": [
        {
          "output_type": "execute_result",
          "data": {
            "text/plain": [
              "TtestResult(statistic=-1.1728901734083375, pvalue=0.2409796633798568, df=1998.0)"
            ]
          },
          "metadata": {},
          "execution_count": 41
        }
      ]
    },
    {
      "cell_type": "markdown",
      "metadata": {
        "id": "zTISKLhR_cGn"
      },
      "source": [
        "##Law of large numbers"
      ]
    },
    {
      "cell_type": "markdown",
      "metadata": {
        "id": "Q7knr72X_011"
      },
      "source": [
        "#### The (Strong) Law of Large Numbers (LLN) states that the empirical average gets closer and closer to the population average as the sample size increases.\n",
        "\n",
        "\n",
        "#### Let's keep using our functions from above, but consider the case in which we are taking more and more samples.\n",
        "\n",
        "## Discussion Question 4: What do we expect to happen to the mean and variance of our data as we collect more samples?"
      ]
    },
    {
      "cell_type": "code",
      "source": [],
      "metadata": {
        "id": "RR20Rs6gdWuP"
      },
      "execution_count": null,
      "outputs": []
    },
    {
      "cell_type": "markdown",
      "metadata": {
        "id": "SkYgN6qcALK-"
      },
      "source": [
        "####Choose one of the *head_counter* functions and simulate 10, 100, 1000, and 10000 samples when we make 100 coin flips with probability of flipping heads=0.5"
      ]
    },
    {
      "cell_type": "code",
      "metadata": {
        "id": "mVNg3QMXAnPB"
      },
      "source": [
        "## sample data\n",
        "s10 = [heads_counter2(0.5, 100) for i in range(10)]\n",
        "s50 = [heads_counter2(0.5, 100) for i in range(100)]\n",
        "s100 = [heads_counter2(0.5, 100) for i in range(1000)]\n",
        "s1000 = [heads_counter2(0.5, 100) for i in range(10000)]"
      ],
      "execution_count": null,
      "outputs": []
    },
    {
      "cell_type": "markdown",
      "metadata": {
        "id": "oTDazPhotK1R"
      },
      "source": [
        "#### Let's compute the population mean and variance as well as the empirical/sample mean and variance for each sample and plot the distribution."
      ]
    },
    {
      "cell_type": "code",
      "metadata": {
        "colab": {
          "base_uri": "https://localhost:8080/"
        },
        "id": "XAdxvwjc7Zdf",
        "outputId": "1d0925dc-5afc-474e-b9d3-5ef1bbe350fc"
      },
      "source": [
        "## population mean = n*p ; population var = np(1-p)\n",
        "\n",
        "print(\"Population mean: \" + str(.5*100))\n",
        "\n",
        "print(\"Population var: \"  + str(0.5*0.5*100))\n"
      ],
      "execution_count": null,
      "outputs": [
        {
          "output_type": "stream",
          "name": "stdout",
          "text": [
            "Population mean: 50.0\n",
            "Population var: 25.0\n"
          ]
        }
      ]
    },
    {
      "cell_type": "code",
      "metadata": {
        "colab": {
          "base_uri": "https://localhost:8080/",
          "height": 1000
        },
        "id": "9DZOXteABFoy",
        "outputId": "33f82bc1-6959-411d-8478-040efc1d0a53"
      },
      "source": [
        "## plot distributions\n",
        "import numpy as np\n",
        "fig, axs = plt.subplots(2, 2,figsize=(10,10))\n",
        "axs[0, 0].hist(s10)\n",
        "axs[0, 0].set_title('samples=10, mean='+str(np.mean(s10))+', var='+str(np.round(np.var(s10),decimals=1)))\n",
        "axs[0, 1].hist(s50)\n",
        "axs[0, 1].set_title('samples=50, mean='+str(np.mean(s50))+', var='+str(np.round(np.var(s50),decimals=1)))\n",
        "axs[1, 0].hist(s100)\n",
        "axs[1, 0].set_title('samples=100, mean='+str(np.mean(s100))+', var='+str(np.round(np.var(s100),decimals=1)))\n",
        "axs[1, 1].hist(s1000)\n",
        "axs[1, 1].set_title('samples=1000, mean='+str(np.mean(s1000))+', var='+str(np.round(np.var(s1000),decimals=1)))\n",
        "\n",
        "for ax in axs.flat:\n",
        "    ax.set(xlabel='sample values', ylabel='count')\n",
        "\n",
        "fig.tight_layout()"
      ],
      "execution_count": null,
      "outputs": [
        {
          "output_type": "display_data",
          "data": {
            "text/plain": [
              "<Figure size 1000x1000 with 4 Axes>"
            ],
            "image/png": "[encoded data removed]"
          },
          "metadata": {}
        }
      ]
    },
    {
      "cell_type": "markdown",
      "source": [
        "### Discussion Question 5: Are we seeing what we expect here? Is the behavior consistent with the LLN?"
      ],
      "metadata": {
        "id": "Ct1J-Ak-ibiY"
      }
    },
    {
      "cell_type": "code",
      "source": [],
      "metadata": {
        "id": "97_zIiG5ia2u"
      },
      "execution_count": null,
      "outputs": []
    },
    {
      "cell_type": "markdown",
      "metadata": {
        "id": "83wICAOYChX8"
      },
      "source": [
        "## Investigating the behavior of the empirical/sample mean"
      ]
    },
    {
      "cell_type": "markdown",
      "metadata": {
        "id": "YYTqY07JCw4l"
      },
      "source": [
        "#### Next, let's consider simulating from the distribution this *estimator*.\n",
        "\n",
        "#### Specifically, we'll consider estimating the population mean $\\mu$ with $\\bar{X}$ based on a random sample from a binomial distribution.  \n",
        "\n",
        "#### It can be shown that for random sample of size $n$ from a distribution with standard deviation $\\sigma$, the standard error (SE) of $\\bar{X}$ is\n",
        "\n",
        ">#### $SE[\\bar{X}] = \\frac{\\sigma}{\\sqrt{n}} $\n",
        "\n",
        "#### This formula is true not only for binomial random variables, but for any random variables from a distribution with finite variance.\n",
        "\n",
        "#### Let's use simulation to confirm this formula in the binomial case."
      ]
    },
    {
      "cell_type": "markdown",
      "source": [
        "### Exercise 2\n",
        "\n",
        "####First, define a function called *sample_estimate* which takes the arguments\n",
        "\n",
        ">##### n_draws, sample size\n",
        ">##### n_flips, n parameter for the binomial distribution (the number of flips)\n",
        ">##### p_heads, the probability of the coin landing on heads\n",
        "\n",
        "#### and returns\n",
        ">##### the mean from the n_draws\n",
        "\n",
        "Run your function for 1000 datasets containing a sequence of 10 flips with an underlying probability of heads of 1/2."
      ],
      "metadata": {
        "id": "h0xLc4K1BUfH"
      }
    },
    {
      "cell_type": "code",
      "metadata": {
        "id": "vx8PFgjnGd2h"
      },
      "source": [
        "### sample_estimate function:\n"
      ],
      "execution_count": null,
      "outputs": []
    },
    {
      "cell_type": "markdown",
      "metadata": {
        "id": "IoU1vDbKHbko"
      },
      "source": [
        "### Exercise 3\n",
        "\n",
        "####Next define a function *estimator_sampler* that samples over these sample estimates, taking the same arguments plus n_samples, the number of sample estimates to compute and returns:\n",
        ">##### a tuple: mean, standard error\n",
        "\n",
        "#### Use your function to obtain mean and standard error estimates from 1000 simulated datasets containing 10 sequences of 10 flips with an underlying probability of heads of 1/2.\n",
        "\n",
        "####Compare the output containing your estimates to the population mean and the standard error formula stated above."
      ]
    },
    {
      "cell_type": "code",
      "metadata": {
        "id": "jWjHU75TH-69"
      },
      "source": [
        "### estimator_sampler function\n"
      ],
      "execution_count": null,
      "outputs": []
    },
    {
      "cell_type": "code",
      "source": [
        "### use your function and compare\n",
        "\n"
      ],
      "metadata": {
        "id": "mppKiDlJ-jgB"
      },
      "execution_count": null,
      "outputs": []
    },
    {
      "cell_type": "markdown",
      "source": [
        "## Investigating the behavior of the sample median"
      ],
      "metadata": {
        "id": "rnHmVjbOm43o"
      }
    },
    {
      "cell_type": "markdown",
      "metadata": {
        "id": "8lImtk7kNJOs"
      },
      "source": [
        "### Exercise 4\n",
        "\n",
        "#### Now let's consider the sample median.\n",
        "\n",
        "#### Create a *median_estimate* function and a sampler function like you did in the previous exercise for the mean.\n",
        "\n",
        "#### Use your function to obtain median estimates from 1000 simulated datasets containing 10 sequences of 10 flips with an underlying probability of heads of 1/2.\n",
        "\n",
        "#### Plot the distribution of your estimates.\n"
      ]
    },
    {
      "cell_type": "code",
      "source": [
        "### defining median_estimate function\n",
        "\n",
        "\n",
        "### defining median sampler\n"
      ],
      "metadata": {
        "id": "BzUKzFTFa8Cr"
      },
      "execution_count": null,
      "outputs": []
    },
    {
      "cell_type": "code",
      "metadata": {
        "id": "WTOiNkjmOJ8A"
      },
      "source": [
        "###  plot the estimates"
      ],
      "execution_count": null,
      "outputs": []
    },
    {
      "cell_type": "markdown",
      "metadata": {
        "id": "WBYEPn0zDIYJ"
      },
      "source": [
        "## The Central Limit Theorem (CLT)"
      ]
    },
    {
      "cell_type": "markdown",
      "metadata": {
        "id": "LQa-SAFhcNQX"
      },
      "source": [
        "###Take 1: Resampling from an arbitrary population"
      ]
    },
    {
      "cell_type": "markdown",
      "metadata": {
        "id": "fhH2PutUUupA"
      },
      "source": [
        "#####The first take on the CLT we will take is sampling from a population.\n",
        "\n",
        "##### Consider an iid sample of size $n$ from a distribution with mean $\\mu$ and variance $\\sigma^2$. The CLT states that the distribution of $\\bar{X}$ is approximately (ie. when $n$ is large) as the sample  normal with mean $\\mu$ and variance $\\sigma/n$.\n",
        "\n",
        "## Discussion Question 6: Have we already seen the CLT in this lab?"
      ]
    },
    {
      "cell_type": "code",
      "source": [],
      "metadata": {
        "id": "PY9fNUFFp4zG"
      },
      "execution_count": null,
      "outputs": []
    },
    {
      "cell_type": "markdown",
      "metadata": {
        "id": "0nJzcAj9Y_H2"
      },
      "source": [
        "####Let's create an arbitrary distribution sampler by mixing different distributions"
      ]
    },
    {
      "cell_type": "code",
      "metadata": {
        "id": "gaoie9CEZITe"
      },
      "source": [
        "#### definining my_dist_sampler:\n",
        "def my_dist():\n",
        "  x = np.random.beta(3,10) + np.random.poisson(2) + np.random.binomial(10,0.2)\n",
        "  return x\n",
        "\n",
        "def my_dist_sampler(n):\n",
        "  my_sample = [my_dist() for i in range(n)]\n",
        "  return my_sample"
      ],
      "execution_count": null,
      "outputs": []
    },
    {
      "cell_type": "markdown",
      "metadata": {
        "id": "nb-IMB0gaxs9"
      },
      "source": [
        "#### Plot the distribution of a sample from your arbitrary distribution"
      ]
    },
    {
      "cell_type": "code",
      "metadata": {
        "colab": {
          "base_uri": "https://localhost:8080/",
          "height": 430
        },
        "id": "kYFkZ6bFa4CH",
        "outputId": "55ad1747-02c3-4275-f797-06962f07ed2f"
      },
      "source": [
        "plt.hist(my_dist_sampler(50))\n",
        "plt.show()\n"
      ],
      "execution_count": null,
      "outputs": [
        {
          "output_type": "display_data",
          "data": {
            "text/plain": [
              "<Figure size 640x480 with 1 Axes>"
            ],
            "image/png": "[encoded data removed]"
          },
          "metadata": {}
        }
      ]
    },
    {
      "cell_type": "markdown",
      "metadata": {
        "id": "jEMxOMC-a6wJ"
      },
      "source": [
        "#### Now create a means sampler for this distribution and plot the distribution of means over 1000 samples of size 50\n",
        "\n",
        "#### Plot the distribution of the means and compare the theoretical and numerical confidence intervals."
      ]
    },
    {
      "cell_type": "code",
      "metadata": {
        "id": "vs_O4qKpbEWl"
      },
      "source": [
        "def mean_dist(n,n_rs):\n",
        "  means = [np.mean(my_dist_sampler(n=n)) for i in range(n_rs)]\n",
        "  return means, np.mean(means), np.std(means)\n"
      ],
      "execution_count": null,
      "outputs": []
    },
    {
      "cell_type": "code",
      "metadata": {
        "colab": {
          "base_uri": "https://localhost:8080/",
          "height": 448
        },
        "id": "myCuoyMabTx7",
        "outputId": "2fed1790-7686-4d56-c314-24456dd25ee8"
      },
      "source": [
        "my_means, rs_mean, rs_sd = mean_dist(n=50, n_rs=10000)\n",
        "\n",
        "num_lcl = np.quantile(my_means, 0.025)\n",
        "num_ucl = np.quantile(my_means, 0.975)\n",
        "\n",
        "plt.hist(my_means)\n",
        "plt.axvline(rs_mean, color = 'k')\n",
        "plt.axvline(rs_mean - 1.96*rs_sd, color = 'k', linestyle=\"dashed\")\n",
        "plt.axvline(rs_mean + 1.96*rs_sd, color = 'k', linestyle=\"dashed\")\n",
        "plt.axvline(num_lcl, color = 'k', linestyle=\"dotted\")\n",
        "plt.axvline(num_ucl, color = 'k', linestyle=\"dotted\")"
      ],
      "execution_count": null,
      "outputs": [
        {
          "output_type": "execute_result",
          "data": {
            "text/plain": [
              "<matplotlib.lines.Line2D at 0x7daeb8239510>"
            ]
          },
          "metadata": {},
          "execution_count": 49
        },
        {
          "output_type": "display_data",
          "data": {
            "text/plain": [
              "<Figure size 640x480 with 1 Axes>"
            ],
            "image/png": "[encoded data removed]"
          },
          "metadata": {}
        }
      ]
    },
    {
      "cell_type": "markdown",
      "source": [
        "### Discussion Question 7: Does the CLT appear to be holding up in this example?"
      ],
      "metadata": {
        "id": "d96kel1Nv8Ue"
      }
    },
    {
      "cell_type": "code",
      "source": [],
      "metadata": {
        "id": "WM5WXdfpwFqE"
      },
      "execution_count": null,
      "outputs": []
    },
    {
      "cell_type": "markdown",
      "metadata": {
        "id": "niVqtcZpcSFq"
      },
      "source": [
        "### Another application of the CLT: The normal approximation of the binomial"
      ]
    },
    {
      "cell_type": "markdown",
      "metadata": {
        "id": "EB9Pf9Z4viNq"
      },
      "source": [
        "#### Now lets consider another application of the central limit theorem: the normal approximation for the binomial distribution.\n",
        "\n",
        "\n",
        "#### A general rule of thumb for the normal approximation of the binomial to hold is   $n*p > 5$ where $n$ is the number of trials and $p$ is the probability of success.\n",
        "\n",
        "## ## Discussion Question 8 : Why does the Binomial grow more \"normal\" as n gets larger (assume p is fixed)?\n",
        "\n"
      ]
    },
    {
      "cell_type": "code",
      "source": [],
      "metadata": {
        "id": "PfMo3_jowyUk"
      },
      "execution_count": null,
      "outputs": []
    },
    {
      "cell_type": "markdown",
      "source": [
        "#### So, for our fair coin scenario, let's keep the number of samples at 1000 but make our parameters for the binomial p=0.5 and vary n."
      ],
      "metadata": {
        "id": "MArkhmtpwylB"
      }
    },
    {
      "cell_type": "code",
      "metadata": {
        "id": "ozn-pkCxDI1Z"
      },
      "source": [
        "## sample data\n",
        "d1 = [heads_counter2(0.5, 1) for i in range(1000)]\n",
        "d3 = [heads_counter2(0.5, 3) for i in range(1000)]\n",
        "d5 = [heads_counter2(0.5, 5) for i in range(1000)]\n",
        "d10 = [heads_counter2(0.5, 10) for i in range(1000)]\n",
        "d50 = [heads_counter2(0.5, 50) for i in range(1000)]\n",
        "d100 = [heads_counter2(0.5, 100) for i in range(1000)]\n",
        "d500 = [heads_counter2(0.5, 500) for i in range(1000)]\n",
        "d1000 = [heads_counter2(0.5, 1000) for i in range(1000)]"
      ],
      "execution_count": null,
      "outputs": []
    },
    {
      "cell_type": "markdown",
      "metadata": {
        "id": "KpJ53akAvPky"
      },
      "source": [
        "####Next, plot the distribution of your sample values. Do they appear to grow more Gaussian?\n",
        "\n"
      ]
    },
    {
      "cell_type": "code",
      "metadata": {
        "colab": {
          "base_uri": "https://localhost:8080/",
          "height": 728
        },
        "id": "PsnGOT8rqG3g",
        "outputId": "6124f8be-357a-46b5-e822-86226b125402"
      },
      "source": [
        "## plot distributions\n",
        "\n",
        "fig, axs = plt.subplots(4, 2, figsize=(10,10))\n",
        "axs[0, 0].hist(d1)\n",
        "axs[0, 0].set_title('n=1')\n",
        "axs[0, 1].hist(d3)\n",
        "axs[0, 1].set_title('n=3')\n",
        "axs[1, 0].hist(d5)\n",
        "axs[1, 0].set_title('n=5')\n",
        "axs[1, 1].hist(d10)\n",
        "axs[1, 1].set_title('n=10')\n",
        "axs[2, 0].hist(d50)\n",
        "axs[2, 0].set_title('n=50')\n",
        "axs[2, 1].hist(d100)\n",
        "axs[2, 1].set_title('n=100')\n",
        "axs[3, 0].hist(d500)\n",
        "axs[3, 0].set_title('n=500')\n",
        "axs[3, 1].hist(d1000)\n",
        "axs[3, 1].set_title('n=1000')\n",
        "\n",
        "for ax in axs.flat:\n",
        "    ax.set(xlabel='sample values', ylabel='count')\n",
        "\n",
        "fig.tight_layout()\n",
        "\n",
        "plt.show()"
      ],
      "execution_count": null,
      "outputs": [
        {
          "output_type": "display_data",
          "data": {
            "image/png": "[encoded data removed]",
            "text/plain": [
              "<Figure size 720x720 with 8 Axes>"
            ]
          },
          "metadata": {
            "needs_background": "light"
          }
        }
      ]
    }
  ]
}