{
  "nbformat": 4,
  "nbformat_minor": 0,
  "metadata": {
    "colab": {
      "provenance": [],
      "include_colab_link": true
    },
    "kernelspec": {
      "name": "python3",
      "display_name": "Python 3"
    }
  },
  "cells": [
    {
      "cell_type": "markdown",
      "metadata": {
        "id": "view-in-github",
        "colab_type": "text"
      },
      "source": [
        "<a href=\"https://colab.research.google.com/github/JanisJ2/jsc270/blob/main/Lab%207/JSC270_2024_Lab7_NLP_Intro.ipynb\" target=\"_parent\"><img src=\"https://colab.research.google.com/assets/colab-badge.svg\" alt=\"Open In Colab\"/></a>"
      ]
    },
    {
      "cell_type": "markdown",
      "metadata": {
        "id": "UGb7zK-ynoaY"
      },
      "source": [
        "# JSC270 Lab 7: Intro to Natural Language Processing\n"
      ]
    },
    {
      "cell_type": "markdown",
      "metadata": {
        "id": "Si_aWMP8n5cr"
      },
      "source": [
        "## Some announcements before we start:\n",
        "- The code (jupyter notebook) from Alastair Johnson's lecture on Monday has been posted to the class website. The notebook generates his slides.\n",
        "\n",
        "- Assignment 3 is due on Friday at 10:59am.\n",
        "\n",
        "- The first part of Assignment 4 is to find a group member. Please do so and sign up on this sheet."
      ]
    },
    {
      "cell_type": "markdown",
      "metadata": {
        "id": "OzjkN4q4pN9E"
      },
      "source": [
        "## 1. Working with Strings in Python\n",
        "\n",
        "- In python (and most other programming languages), we represent text using __strings__, which are just sequences of characters stored as arrays\n",
        "- You can assign a string object in python using single or double quotes\n",
        "- Triple quotes can be used for a multiline strings\n",
        "- Strings can be concatenated (added together) with the '+' symbol"
      ]
    },
    {
      "cell_type": "code",
      "metadata": {
        "colab": {
          "base_uri": "https://localhost:8080/"
        },
        "id": "Uye8hHFFus4j",
        "outputId": "bb0c1ab0-6572-41ba-a2ba-fa050ebd047d"
      },
      "source": [
        "string1 = 'This is how we store text'\n",
        "string2 = \"We could store text like this too, with double quotes\"\n",
        "string3 = '''I'm a multiline string. This is very useful for representing\n",
        "larger volumes of text, like paragraphs of a book.'''\n",
        "\n",
        "\n",
        "print(string1 + '\\n', string2 + '\\n', string3)\n",
        "print(string1 + '. ' + string2)"
      ],
      "execution_count": 1,
      "outputs": [
        {
          "output_type": "stream",
          "name": "stdout",
          "text": [
            "This is how we store text\n",
            " We could store text like this too, with double quotes\n",
            " I'm a multiline string. This is very useful for representing\n",
            "larger volumes of text, like paragraphs of a book.\n",
            "This is how we store text. We could store text like this too, with double quotes\n"
          ]
        }
      ]
    },
    {
      "cell_type": "markdown",
      "metadata": {
        "id": "qRvu8pQ57X4O"
      },
      "source": [
        "- Because python strings are represented as arrays, we can also iterate and slice them, just like with a regular array (i.e. a list)\n",
        "- Since strings are represented with quotation marks, if we ever want quotes within the string itself, we need to use the backslash (called the escape character)"
      ]
    },
    {
      "cell_type": "code",
      "metadata": {
        "colab": {
          "base_uri": "https://localhost:8080/"
        },
        "id": "FUqJCSQk7yCo",
        "outputId": "e58d2b3e-6352-4278-93bc-6da4b47a42ae"
      },
      "source": [
        "# print the first 5 characters of string 3\n",
        "print(string3[:5])\n",
        "\n",
        "# Iterate through the first 4 characters of string 1\n",
        "for i in range(5):\n",
        "  print(string1[i])\n",
        "\n",
        "# Create a string with quotation marks\n",
        "quote_string = 'This string \\'actually\\' has quotation marks in it'\n",
        "print(quote_string)"
      ],
      "execution_count": 2,
      "outputs": [
        {
          "output_type": "stream",
          "name": "stdout",
          "text": [
            "I'm a\n",
            "T\n",
            "h\n",
            "i\n",
            "s\n",
            " \n",
            "This string 'actually' has quotation marks in it\n"
          ]
        }
      ]
    },
    {
      "cell_type": "markdown",
      "metadata": {
        "id": "lkfnLzc58Sra"
      },
      "source": [
        "- Note that in the printout, the 5th element of `string1` was printed. It just happened to be whitespace, which is treated as its character. This is an important detail - hidden whitespace can make it difficult for you to clean text data.\n",
        "\n",
        "- Python also has a set of methods designed for you to modify existing strings:"
      ]
    },
    {
      "cell_type": "code",
      "metadata": {
        "colab": {
          "base_uri": "https://localhost:8080/"
        },
        "id": "CsnjHhTy88AD",
        "outputId": "ab5eac0a-2435-4f29-ec75-b2fb503c0e26"
      },
      "source": [
        "a = 'THIS STRING IS ALL CAPITAL LETTERS'\n",
        "b = 'this string has all lowercase letters'\n",
        "c = '     This string has extra whitespace   '\n",
        "d = 'This string has exactly zne misspelling'\n",
        "\n",
        "# Convert a to lowercase\n",
        "print('Convert a to lowercase:',a.lower())\n",
        "\n",
        "# Convert b into capitals\n",
        "print('Convert b to capitals:', b.upper())\n",
        "\n",
        "# Remove excess whitespace from beginning and end of string\n",
        "print('Take the whitespace off the beg and end of c:', c.strip())\n",
        "\n",
        "# Replace characters as needed\n",
        "print('Fix the typo in d:',d.replace('z','o'))"
      ],
      "execution_count": 3,
      "outputs": [
        {
          "output_type": "stream",
          "name": "stdout",
          "text": [
            "Convert a to lowercase: this string is all capital letters\n",
            "Convert b to capitals: THIS STRING HAS ALL LOWERCASE LETTERS\n",
            "Take the whitespace off the beg and end of c: This string has extra whitespace\n",
            "Fix the typo in d: This string has exactly one misspelling\n"
          ]
        }
      ]
    },
    {
      "cell_type": "markdown",
      "metadata": {
        "id": "7s7dYzyy_jQD"
      },
      "source": [
        "- Some of these methods can accept as inputs strings longer than one character\n",
        "- Just be careful: Methods act over the entire string, so you may modify parts of text you didn't expect\n",
        "- You can also chain these methods together to create a small pipeline"
      ]
    },
    {
      "cell_type": "code",
      "metadata": {
        "colab": {
          "base_uri": "https://localhost:8080/",
          "height": 35
        },
        "id": "4ma4uLE5_80a",
        "outputId": "000d0e30-b568-4e60-bae5-f8744d6f3a65"
      },
      "source": [
        "d.replace('z','o').replace('one', 'zero').replace('misspelling','misspellings')"
      ],
      "execution_count": 4,
      "outputs": [
        {
          "output_type": "execute_result",
          "data": {
            "text/plain": [
              "'This string has exactly zero misspellings'"
            ],
            "application/vnd.google.colaboratory.intrinsic+json": {
              "type": "string"
            }
          },
          "metadata": {},
          "execution_count": 4
        }
      ]
    },
    {
      "cell_type": "markdown",
      "metadata": {
        "id": "K4hchYJ7Any0"
      },
      "source": [
        "- We can use the `split` method to split a string of running text into a list of words. By default, it separates by whitespace. But you can give a different delimiter."
      ]
    },
    {
      "cell_type": "code",
      "metadata": {
        "colab": {
          "base_uri": "https://localhost:8080/"
        },
        "id": "PxAJYH8fD3Q1",
        "outputId": "2fd65722-6d31-4c11-dba0-daa318b33b80"
      },
      "source": [
        "s = 'This is a list of words we might want to separate.'\n",
        "\n",
        "# Separate string s into a list of words\n",
        "s.split()"
      ],
      "execution_count": 5,
      "outputs": [
        {
          "output_type": "execute_result",
          "data": {
            "text/plain": [
              "['This',\n",
              " 'is',\n",
              " 'a',\n",
              " 'list',\n",
              " 'of',\n",
              " 'words',\n",
              " 'we',\n",
              " 'might',\n",
              " 'want',\n",
              " 'to',\n",
              " 'separate.']"
            ]
          },
          "metadata": {},
          "execution_count": 5
        }
      ]
    },
    {
      "cell_type": "markdown",
      "metadata": {
        "id": "CXnvLsGVEHqm"
      },
      "source": [
        "Notice that we did not remove the punctuation. We'll look at how to do that shortly.\n",
        "- There are many other useful methods not covered here (Google is your friend here)"
      ]
    },
    {
      "cell_type": "markdown",
      "metadata": {
        "id": "WmS83pWxEUdS"
      },
      "source": [
        "<br>\n",
        "\n",
        "<br>\n",
        "\n",
        "__Q: Based on what you've just seen, how might we remove the punctuation?__ There's more than one right answer here."
      ]
    },
    {
      "cell_type": "code",
      "metadata": {
        "id": "lfSDpYF9Elj-"
      },
      "source": [
        "## Answer\n"
      ],
      "execution_count": 6,
      "outputs": []
    },
    {
      "cell_type": "markdown",
      "metadata": {
        "id": "-PSI6boOo8nd"
      },
      "source": [
        "## 2. Pattern Identification with Regular Expressions\n",
        "\n",
        "- What if we didn't create the string, but we wanted to find it based on a specific pattern it might contain?\n",
        "\n",
        "- __Regular Expressions__, or regex for short, are sequences of characters designed to specify search patterns. They can be used to find strings containing specific patterns, or to replace specific parts of a string. These patterns are defined at the character level.\n",
        "\n",
        "- Regex uses certain metacharacters to span larger string patterns with short syntax. For example:\n",
        "    - `[a-q]` is used to denote any (lowercase) letter between a and q\n",
        "    - `\\w` is used to denote any alphanumeric character (any number or letter)\n",
        "\n",
        "- Virtually every programming language has some sort of regex implementation. We'll use python's `re` package\n"
      ]
    },
    {
      "cell_type": "code",
      "metadata": {
        "id": "aNxOIyLrSVYd"
      },
      "source": [
        "import re\n",
        "\n",
        "# Let's define some strings, representing what we might see text\n",
        "\n",
        "a = 'half a league, half a league, half a league onward!'\n",
        "b = 'John Smith, Toronto, Canada, L2G0C8'\n",
        "c = 'assignment1.csv, assignment2.txt, assignment3.pdf'\n",
        "d = 'The review committee for 2018 approved a travel budget of $2800'"
      ],
      "execution_count": 7,
      "outputs": []
    },
    {
      "cell_type": "markdown",
      "metadata": {
        "id": "KAuOQdj-W3rG"
      },
      "source": [
        "We can use regex to identify (and possibly remove) certain parts of these strings. The following are commonly used patterns:\n",
        "- `[A-Zz-z]` denotes all letters (capital and lowercase)\n",
        "- `[0-5][5-9]` denotes any 2 digit number between 05 and 59\n",
        "- `[abcd]` denotes a or b or c or d (but only one of them)\n",
        "- `[^def]` denotes any character that is not d or e or f\n",
        "- `.` The period is a wildcard - denotes any character\n",
        "- `\\w` denotes any alphanumeric character\n",
        "- `\\s` denotes whitespace\n",
        "- `\\S` denotes any non-whitespace character\n",
        "\n",
        "Using the strings defined above, let's try and find/extract information:"
      ]
    },
    {
      "cell_type": "code",
      "metadata": {
        "colab": {
          "base_uri": "https://localhost:8080/"
        },
        "id": "lixWbFI_ZYez",
        "outputId": "b77dec5a-be86-4bc6-930c-5aa1f15870a0"
      },
      "source": [
        "#### How often does the phrase 'Half a league' occur in a? ####\n",
        "result = re.findall('[Hh]alf a league', a)\n",
        "print(result)\n",
        "\n",
        "# This function returns a list of all the matches for my search (Note the regex used)\n",
        "print('The phrase \\'half a league\\' occurs {} times in a'.format(len(result)))"
      ],
      "execution_count": 8,
      "outputs": [
        {
          "output_type": "stream",
          "name": "stdout",
          "text": [
            "['half a league', 'half a league', 'half a league']\n",
            "The phrase 'half a league' occurs 3 times in a\n"
          ]
        }
      ]
    },
    {
      "cell_type": "code",
      "metadata": {
        "colab": {
          "base_uri": "https://localhost:8080/"
        },
        "id": "h9Tf1XZgbMpM",
        "outputId": "105bbdcf-cf5c-4150-fab9-18b81d464a0e"
      },
      "source": [
        "#### What types of files are contained in c? #####\n",
        "result = re.findall('\\.([a-z]{3})', c)\n",
        "print(result)"
      ],
      "execution_count": 9,
      "outputs": [
        {
          "output_type": "stream",
          "name": "stdout",
          "text": [
            "['csv', 'txt', 'pdf']\n"
          ]
        }
      ]
    },
    {
      "cell_type": "markdown",
      "metadata": {
        "id": "MAZRNUaecR03"
      },
      "source": [
        "For that last example, notice:\n",
        "- Since the `.` is a wildcard character by default, if I actually want to look for a period, I need to use the backslash (escape character) to denote it\n",
        "- The `{}` are used as shorthand to repeat a character within the search pattern (in this case I was look for three digits in a row).\n",
        "- The `()` form what's called a __capture group__. This is used to separate the pattern I searched for from the information I actually need. In this case, the period is necessary to find the file formats, but I don't actually want it returned with the other three digits, so I exclude it from the capture group."
      ]
    },
    {
      "cell_type": "code",
      "metadata": {
        "colab": {
          "base_uri": "https://localhost:8080/"
        },
        "id": "86qa13A9dEuL",
        "outputId": "7a1a4873-a678-4d61-ffed-05e4462a2431"
      },
      "source": [
        "#### Is the budget in d for 2018 greater than $1000?\n",
        "budget = re.findall('\\$([0-9]+)',d)\n",
        "\n",
        "print(budget)\n",
        "print( (float(budget[0]) > 1000) )"
      ],
      "execution_count": 10,
      "outputs": [
        {
          "output_type": "stream",
          "name": "stdout",
          "text": [
            "['2800']\n",
            "True\n"
          ]
        }
      ]
    },
    {
      "cell_type": "markdown",
      "metadata": {
        "id": "pscBU5sFido7"
      },
      "source": [
        "Note the `+`, which is called the Kleene Plus. It is used to indicate '1 or more' of some character. The `*` is called the Kleene star, and is used to specify 'zero or more'. With both of these symbols, there is no upper limit (ie `[0-9]+` could potentially capture a string of 10000 digits if that exists)."
      ]
    },
    {
      "cell_type": "code",
      "metadata": {
        "colab": {
          "base_uri": "https://localhost:8080/"
        },
        "id": "q4UkYco6jJla",
        "outputId": "5c946379-e703-4e9d-bcdd-fe3f6bea15f4"
      },
      "source": [
        "#### Replace the year and budget in d with 2019 and $30000 ####\n",
        "print('Original string:\\n', d)\n",
        "new_budget = re.sub('\\$[0-9]+','$30000', d)\n",
        "print('Changed budget:\\n',new_budget)\n",
        "\n",
        "new_year = re.sub('\\s\\d+\\s', ' 2019 ', new_budget)\n",
        "print('Both changes:\\n',new_year)"
      ],
      "execution_count": 11,
      "outputs": [
        {
          "output_type": "stream",
          "name": "stdout",
          "text": [
            "Original string:\n",
            " The review committee for 2018 approved a travel budget of $2800\n",
            "Changed budget:\n",
            " The review committee for 2018 approved a travel budget of $30000\n",
            "Both changes:\n",
            " The review committee for 2019 approved a travel budget of $30000\n"
          ]
        }
      ]
    },
    {
      "cell_type": "markdown",
      "metadata": {
        "id": "qkK4N0KBkjga"
      },
      "source": [
        "Remember that `\\s` denotes whitespace. `\\d` is short notation for any digit `[0-9]`. The regex for new year can be read as \"[Whitespace][One or more digits][Whitespace]\".\n",
        "\n",
        "<br>\n",
        "\n",
        "<br>\n",
        "\n",
        "__Q: What would happen in the above example if I didn't include the whitespace indicators in my regular expression?__"
      ]
    },
    {
      "cell_type": "code",
      "metadata": {
        "id": "ZfmGBgxyk91q"
      },
      "source": [
        "# Answer"
      ],
      "execution_count": 12,
      "outputs": []
    },
    {
      "cell_type": "markdown",
      "metadata": {
        "id": "wnkwocnal4vM"
      },
      "source": [
        "<br>\n",
        "\n",
        "<br>"
      ]
    },
    {
      "cell_type": "code",
      "metadata": {
        "colab": {
          "base_uri": "https://localhost:8080/"
        },
        "id": "kiTvozN8lhOu",
        "outputId": "bb56b8d6-40a9-4221-c697-993fca1cf4da"
      },
      "source": [
        "#### Extract the name and Postal code from b ####\n",
        "print(b)\n",
        "\n",
        "# There may be ways to do this\n",
        "post_code = re.search('[A-Z]\\d[A-Z]\\s?\\d[A-Z]\\d', b)\n",
        "print('Postal Code:', post_code.group())\n",
        "\n",
        "# Names will almost always start with capital letters\n",
        "# Also, there will be two of them consecutively\n",
        "\n",
        "name = re.search('[A-Z][a-z]+\\s+[A-Z][a-z]+', b)\n",
        "print('Name:', name.group())"
      ],
      "execution_count": 13,
      "outputs": [
        {
          "output_type": "stream",
          "name": "stdout",
          "text": [
            "John Smith, Toronto, Canada, L2G0C8\n",
            "Postal Code: L2G0C8\n",
            "Name: John Smith\n"
          ]
        }
      ]
    },
    {
      "cell_type": "markdown",
      "metadata": {
        "id": "Gii8vAkOuQpX"
      },
      "source": [
        "Notice for the regex in the postal code extraction, I simply followed the pattern of a postal code (letter, number, letter, ...). The `?` symbol makes the preceding character optional. Since some postal codes contain spaces, this search pattern is now robust to that possibility.\n",
        "\n",
        "<br>\n",
        "\n",
        "<br>\n",
        "\n",
        "__Q: What would be the regular expression for extracting Twitter handles?(e.g. @xyz)__."
      ]
    },
    {
      "cell_type": "code",
      "metadata": {
        "id": "fuZ-L7zLu4t1"
      },
      "source": [
        "# Answer\n"
      ],
      "execution_count": 14,
      "outputs": []
    },
    {
      "cell_type": "markdown",
      "metadata": {
        "id": "S2B2PyTIu8Tu"
      },
      "source": [
        "- The ones we've seen today are just a small portion of the whole language. I encourage you to read further into them, since you will likely use them in later courses.\n",
        "- __Regexone__ hosts a great sequence of tutorials on regular expressions, which you can visit [here](https://regexone.com/).\n"
      ]
    },
    {
      "cell_type": "markdown",
      "metadata": {
        "id": "P-La_D2XpYV8"
      },
      "source": [
        "<br>\n",
        "\n",
        "<br>\n",
        "\n",
        "## 3. Today's Dataset\n",
        "\n",
        "- Today we'll be doing binary classification (spam detection) with email messages. Our dataset is a subsample of a larger set that comes from the Machine Learning Repository at UC Irvine. This particular data (as is often the case) was used for a Kaggle competition, which you can read about [here](https://www.kaggle.com/uciml/sms-spam-collection-dataset/tasks).\n",
        "\n",
        "- The dataset contains 5572 observations, with the message itself, and the label (spam/ham). The file `spam.csv` is listed alongside the link to this notebook.\n",
        "\n",
        "<br>\n",
        "\n",
        "__The dataset is available here [here](https://drive.google.com/file/d/10vSo6HaJDVqCgti07q87KkpCMYzdJf6v/view?usp=sharing). We will load it into this notebook using the code below calling the data from the professor's GitHub repo__."
      ]
    },
    {
      "cell_type": "code",
      "metadata": {
        "colab": {
          "base_uri": "https://localhost:8080/"
        },
        "id": "7VqgP9BB3oOV",
        "outputId": "e7f129a3-6814-4931-9e65-1548cf7f51db"
      },
      "source": [
        "# Read in data from github\n",
        "!wget \"https://raw.githubusercontent.com/JanisJ2/jsc270/main/Lab%207/spam.csv\""
      ],
      "execution_count": 19,
      "outputs": [
        {
          "output_type": "stream",
          "name": "stdout",
          "text": [
            "--2024-03-29 18:11:09--  https://raw.githubusercontent.com/JanisJ2/jsc270/main/Lab%207/spam.csv\n",
            "Resolving raw.githubusercontent.com (raw.githubusercontent.com)... 185.199.108.133, 185.199.109.133, 185.199.110.133, ...\n",
            "Connecting to raw.githubusercontent.com (raw.githubusercontent.com)|185.199.108.133|:443... connected.\n",
            "HTTP request sent, awaiting response... 200 OK\n",
            "Length: 503663 (492K) [text/plain]\n",
            "Saving to: ‘spam.csv.1’\n",
            "\n",
            "\rspam.csv.1            0%[                    ]       0  --.-KB/s               \rspam.csv.1          100%[===================>] 491.86K  --.-KB/s    in 0.04s   \n",
            "\n",
            "2024-03-29 18:11:09 (12.0 MB/s) - ‘spam.csv.1’ saved [503663/503663]\n",
            "\n"
          ]
        }
      ]
    },
    {
      "cell_type": "code",
      "source": [
        "import pandas as pd\n",
        "df = pd.read_csv(r\"/content/spam.csv\", encoding= 'latin1')"
      ],
      "metadata": {
        "id": "un6kQXLrLIbY"
      },
      "execution_count": 20,
      "outputs": []
    },
    {
      "cell_type": "code",
      "metadata": {
        "id": "RGonL-ko3_4U",
        "outputId": "a7de0cf0-b8b9-470e-9604-951975de059b",
        "colab": {
          "base_uri": "https://localhost:8080/"
        }
      },
      "source": [
        "# You'll know you were successful if this code works\n",
        "import numpy as np\n",
        "\n",
        "print(df.head(5))"
      ],
      "execution_count": 21,
      "outputs": [
        {
          "output_type": "stream",
          "name": "stdout",
          "text": [
            "     v1                                                 v2 Unnamed: 2  \\\n",
            "0   ham  Go until jurong point, crazy.. Available only ...        NaN   \n",
            "1   ham                      Ok lar... Joking wif u oni...        NaN   \n",
            "2  spam  Free entry in 2 a wkly comp to win FA Cup fina...        NaN   \n",
            "3   ham  U dun say so early hor... U c already then say...        NaN   \n",
            "4   ham  Nah I don't think he goes to usf, he lives aro...        NaN   \n",
            "\n",
            "  Unnamed: 3 Unnamed: 4  \n",
            "0        NaN        NaN  \n",
            "1        NaN        NaN  \n",
            "2        NaN        NaN  \n",
            "3        NaN        NaN  \n",
            "4        NaN        NaN  \n"
          ]
        }
      ]
    },
    {
      "cell_type": "markdown",
      "metadata": {
        "id": "JKXgvWLS5xms"
      },
      "source": [
        "- Note the `encoding` argument passed to the `read_csv` method. CSV files can often be encoded in a number of different ways. The standard is `encoding = 'utf-8'`, however there are other systems, like `'latin1'`.\n",
        "\n",
        "You can run the following code to get an idea of what we're dealing with:"
      ]
    },
    {
      "cell_type": "code",
      "metadata": {
        "id": "W23qliQu6vK7",
        "colab": {
          "base_uri": "https://localhost:8080/"
        },
        "outputId": "01ff8be6-3fca-41e8-b2d2-a60d7261927c"
      },
      "source": [
        "# This function will print a random email message\n",
        "def print_random_message():\n",
        "  i = np.random.randint(len(df))\n",
        "  message = df.iloc[i,1]\n",
        "  label = df.iloc[i,0]\n",
        "  print('Here is one of the messages:\\n', message)\n",
        "  print('It is labelled as:\\n',label)\n",
        "\n",
        "# call the function\n",
        "print_random_message()"
      ],
      "execution_count": 22,
      "outputs": [
        {
          "output_type": "stream",
          "name": "stdout",
          "text": [
            "Here is one of the messages:\n",
            " Hi. || Do u want | to join me with sts later? || Meeting them at five. || Call u after class.\n",
            "It is labelled as:\n",
            " ham\n"
          ]
        }
      ]
    },
    {
      "cell_type": "markdown",
      "metadata": {
        "id": "nnp8xf7N7IE7"
      },
      "source": [
        "Before we do anything with the text itself, the df needs a bit of tidying. The default parser gave us some extra columns:"
      ]
    },
    {
      "cell_type": "code",
      "metadata": {
        "id": "c5YWh6Vt7T2c",
        "colab": {
          "base_uri": "https://localhost:8080/"
        },
        "outputId": "57fbc63f-0bdf-476a-f108-e581d40ddfd9"
      },
      "source": [
        "# How many columns are there now?\n",
        "print('The columns read in are:',list(df))\n",
        "\n",
        "# The datset should only contain {label, message}\n",
        "data = df.drop(['Unnamed: 2', 'Unnamed: 3', 'Unnamed: 4'], axis = 1)\n",
        "# rename other columns while we're at it\n",
        "data.columns = ['label', 'message']\n",
        "print('Now we keep just what we need:\\n', data.head())"
      ],
      "execution_count": 23,
      "outputs": [
        {
          "output_type": "stream",
          "name": "stdout",
          "text": [
            "The columns read in are: ['v1', 'v2', 'Unnamed: 2', 'Unnamed: 3', 'Unnamed: 4']\n",
            "Now we keep just what we need:\n",
            "   label                                            message\n",
            "0   ham  Go until jurong point, crazy.. Available only ...\n",
            "1   ham                      Ok lar... Joking wif u oni...\n",
            "2  spam  Free entry in 2 a wkly comp to win FA Cup fina...\n",
            "3   ham  U dun say so early hor... U c already then say...\n",
            "4   ham  Nah I don't think he goes to usf, he lives aro...\n"
          ]
        }
      ]
    },
    {
      "cell_type": "code",
      "source": [
        "data.head()"
      ],
      "metadata": {
        "colab": {
          "base_uri": "https://localhost:8080/",
          "height": 206
        },
        "id": "lAOaknXaMClq",
        "outputId": "40236810-ebb4-4a50-f2fc-61ebfa2a1975"
      },
      "execution_count": 24,
      "outputs": [
        {
          "output_type": "execute_result",
          "data": {
            "text/plain": [
              "  label                                            message\n",
              "0   ham  Go until jurong point, crazy.. Available only ...\n",
              "1   ham                      Ok lar... Joking wif u oni...\n",
              "2  spam  Free entry in 2 a wkly comp to win FA Cup fina...\n",
              "3   ham  U dun say so early hor... U c already then say...\n",
              "4   ham  Nah I don't think he goes to usf, he lives aro..."
            ],
            "text/html": [
              "\n",
              "  <div id=\"df-f36ec4d5-e520-4f80-9896-e6b5a44d96ad\" class=\"colab-df-container\">\n",
              "    <div>\n",
              "<style scoped>\n",
              "    .dataframe tbody tr th:only-of-type {\n",
              "        vertical-align: middle;\n",
              "    }\n",
              "\n",
              "    .dataframe tbody tr th {\n",
              "        vertical-align: top;\n",
              "    }\n",
              "\n",
              "    .dataframe thead th {\n",
              "        text-align: right;\n",
              "    }\n",
              "</style>\n",
              "<table border=\"1\" class=\"dataframe\">\n",
              "  <thead>\n",
              "    <tr style=\"text-align: right;\">\n",
              "      <th></th>\n",
              "      <th>label</th>\n",
              "      <th>message</th>\n",
              "    </tr>\n",
              "  </thead>\n",
              "  <tbody>\n",
              "    <tr>\n",
              "      <th>0</th>\n",
              "      <td>ham</td>\n",
              "      <td>Go until jurong point, crazy.. Available only ...</td>\n",
              "    </tr>\n",
              "    <tr>\n",
              "      <th>1</th>\n",
              "      <td>ham</td>\n",
              "      <td>Ok lar... Joking wif u oni...</td>\n",
              "    </tr>\n",
              "    <tr>\n",
              "      <th>2</th>\n",
              "      <td>spam</td>\n",
              "      <td>Free entry in 2 a wkly comp to win FA Cup fina...</td>\n",
              "    </tr>\n",
              "    <tr>\n",
              "      <th>3</th>\n",
              "      <td>ham</td>\n",
              "      <td>U dun say so early hor... U c already then say...</td>\n",
              "    </tr>\n",
              "    <tr>\n",
              "      <th>4</th>\n",
              "      <td>ham</td>\n",
              "      <td>Nah I don't think he goes to usf, he lives aro...</td>\n",
              "    </tr>\n",
              "  </tbody>\n",
              "</table>\n",
              "</div>\n",
              "    <div class=\"colab-df-buttons\">\n",
              "\n",
              "  <div class=\"colab-df-container\">\n",
              "    <button class=\"colab-df-convert\" onclick=\"convertToInteractive('df-f36ec4d5-e520-4f80-9896-e6b5a44d96ad')\"\n",
              "            title=\"Convert this dataframe to an interactive table.\"\n",
              "            style=\"display:none;\">\n",
              "\n",
              "  <svg xmlns=\"http://www.w3.org/2000/svg\" height=\"24px\" viewBox=\"0 -960 960 960\">\n",
              "    <path d=\"M120-120v-720h720v720H120Zm60-500h600v-160H180v160Zm220 220h160v-160H400v160Zm0 220h160v-160H400v160ZM180-400h160v-160H180v160Zm440 0h160v-160H620v160ZM180-180h160v-160H180v160Zm440 0h160v-160H620v160Z\"/>\n",
              "  </svg>\n",
              "    </button>\n",
              "\n",
              "  <style>\n",
              "    .colab-df-container {\n",
              "      display:flex;\n",
              "      gap: 12px;\n",
              "    }\n",
              "\n",
              "    .colab-df-convert {\n",
              "      background-color: #E8F0FE;\n",
              "      border: none;\n",
              "      border-radius: 50%;\n",
              "      cursor: pointer;\n",
              "      display: none;\n",
              "      fill: #1967D2;\n",
              "      height: 32px;\n",
              "      padding: 0 0 0 0;\n",
              "      width: 32px;\n",
              "    }\n",
              "\n",
              "    .colab-df-convert:hover {\n",
              "      background-color: #E2EBFA;\n",
              "      box-shadow: 0px 1px 2px rgba(60, 64, 67, 0.3), 0px 1px 3px 1px rgba(60, 64, 67, 0.15);\n",
              "      fill: #174EA6;\n",
              "    }\n",
              "\n",
              "    .colab-df-buttons div {\n",
              "      margin-bottom: 4px;\n",
              "    }\n",
              "\n",
              "    [theme=dark] .colab-df-convert {\n",
              "      background-color: #3B4455;\n",
              "      fill: #D2E3FC;\n",
              "    }\n",
              "\n",
              "    [theme=dark] .colab-df-convert:hover {\n",
              "      background-color: #434B5C;\n",
              "      box-shadow: 0px 1px 3px 1px rgba(0, 0, 0, 0.15);\n",
              "      filter: drop-shadow(0px 1px 2px rgba(0, 0, 0, 0.3));\n",
              "      fill: #FFFFFF;\n",
              "    }\n",
              "  </style>\n",
              "\n",
              "    <script>\n",
              "      const buttonEl =\n",
              "        document.querySelector('#df-f36ec4d5-e520-4f80-9896-e6b5a44d96ad button.colab-df-convert');\n",
              "      buttonEl.style.display =\n",
              "        google.colab.kernel.accessAllowed ? 'block' : 'none';\n",
              "\n",
              "      async function convertToInteractive(key) {\n",
              "        const element = document.querySelector('#df-f36ec4d5-e520-4f80-9896-e6b5a44d96ad');\n",
              "        const dataTable =\n",
              "          await google.colab.kernel.invokeFunction('convertToInteractive',\n",
              "                                                    [key], {});\n",
              "        if (!dataTable) return;\n",
              "\n",
              "        const docLinkHtml = 'Like what you see? Visit the ' +\n",
              "          '<a target=\"_blank\" href=https://colab.research.google.com/notebooks/data_table.ipynb>data table notebook</a>'\n",
              "          + ' to learn more about interactive tables.';\n",
              "        element.innerHTML = '';\n",
              "        dataTable['output_type'] = 'display_data';\n",
              "        await google.colab.output.renderOutput(dataTable, element);\n",
              "        const docLink = document.createElement('div');\n",
              "        docLink.innerHTML = docLinkHtml;\n",
              "        element.appendChild(docLink);\n",
              "      }\n",
              "    </script>\n",
              "  </div>\n",
              "\n",
              "\n",
              "<div id=\"df-5e24c956-bd30-4658-a8fd-0971c9c04a7d\">\n",
              "  <button class=\"colab-df-quickchart\" onclick=\"quickchart('df-5e24c956-bd30-4658-a8fd-0971c9c04a7d')\"\n",
              "            title=\"Suggest charts\"\n",
              "            style=\"display:none;\">\n",
              "\n",
              "<svg xmlns=\"http://www.w3.org/2000/svg\" height=\"24px\"viewBox=\"0 0 24 24\"\n",
              "     width=\"24px\">\n",
              "    <g>\n",
              "        <path d=\"M19 3H5c-1.1 0-2 .9-2 2v14c0 1.1.9 2 2 2h14c1.1 0 2-.9 2-2V5c0-1.1-.9-2-2-2zM9 17H7v-7h2v7zm4 0h-2V7h2v10zm4 0h-2v-4h2v4z\"/>\n",
              "    </g>\n",
              "</svg>\n",
              "  </button>\n",
              "\n",
              "<style>\n",
              "  .colab-df-quickchart {\n",
              "      --bg-color: #E8F0FE;\n",
              "      --fill-color: #1967D2;\n",
              "      --hover-bg-color: #E2EBFA;\n",
              "      --hover-fill-color: #174EA6;\n",
              "      --disabled-fill-color: #AAA;\n",
              "      --disabled-bg-color: #DDD;\n",
              "  }\n",
              "\n",
              "  [theme=dark] .colab-df-quickchart {\n",
              "      --bg-color: #3B4455;\n",
              "      --fill-color: #D2E3FC;\n",
              "      --hover-bg-color: #434B5C;\n",
              "      --hover-fill-color: #FFFFFF;\n",
              "      --disabled-bg-color: #3B4455;\n",
              "      --disabled-fill-color: #666;\n",
              "  }\n",
              "\n",
              "  .colab-df-quickchart {\n",
              "    background-color: var(--bg-color);\n",
              "    border: none;\n",
              "    border-radius: 50%;\n",
              "    cursor: pointer;\n",
              "    display: none;\n",
              "    fill: var(--fill-color);\n",
              "    height: 32px;\n",
              "    padding: 0;\n",
              "    width: 32px;\n",
              "  }\n",
              "\n",
              "  .colab-df-quickchart:hover {\n",
              "    background-color: var(--hover-bg-color);\n",
              "    box-shadow: 0 1px 2px rgba(60, 64, 67, 0.3), 0 1px 3px 1px rgba(60, 64, 67, 0.15);\n",
              "    fill: var(--button-hover-fill-color);\n",
              "  }\n",
              "\n",
              "  .colab-df-quickchart-complete:disabled,\n",
              "  .colab-df-quickchart-complete:disabled:hover {\n",
              "    background-color: var(--disabled-bg-color);\n",
              "    fill: var(--disabled-fill-color);\n",
              "    box-shadow: none;\n",
              "  }\n",
              "\n",
              "  .colab-df-spinner {\n",
              "    border: 2px solid var(--fill-color);\n",
              "    border-color: transparent;\n",
              "    border-bottom-color: var(--fill-color);\n",
              "    animation:\n",
              "      spin 1s steps(1) infinite;\n",
              "  }\n",
              "\n",
              "  @keyframes spin {\n",
              "    0% {\n",
              "      border-color: transparent;\n",
              "      border-bottom-color: var(--fill-color);\n",
              "      border-left-color: var(--fill-color);\n",
              "    }\n",
              "    20% {\n",
              "      border-color: transparent;\n",
              "      border-left-color: var(--fill-color);\n",
              "      border-top-color: var(--fill-color);\n",
              "    }\n",
              "    30% {\n",
              "      border-color: transparent;\n",
              "      border-left-color: var(--fill-color);\n",
              "      border-top-color: var(--fill-color);\n",
              "      border-right-color: var(--fill-color);\n",
              "    }\n",
              "    40% {\n",
              "      border-color: transparent;\n",
              "      border-right-color: var(--fill-color);\n",
              "      border-top-color: var(--fill-color);\n",
              "    }\n",
              "    60% {\n",
              "      border-color: transparent;\n",
              "      border-right-color: var(--fill-color);\n",
              "    }\n",
              "    80% {\n",
              "      border-color: transparent;\n",
              "      border-right-color: var(--fill-color);\n",
              "      border-bottom-color: var(--fill-color);\n",
              "    }\n",
              "    90% {\n",
              "      border-color: transparent;\n",
              "      border-bottom-color: var(--fill-color);\n",
              "    }\n",
              "  }\n",
              "</style>\n",
              "\n",
              "  <script>\n",
              "    async function quickchart(key) {\n",
              "      const quickchartButtonEl =\n",
              "        document.querySelector('#' + key + ' button');\n",
              "      quickchartButtonEl.disabled = true;  // To prevent multiple clicks.\n",
              "      quickchartButtonEl.classList.add('colab-df-spinner');\n",
              "      try {\n",
              "        const charts = await google.colab.kernel.invokeFunction(\n",
              "            'suggestCharts', [key], {});\n",
              "      } catch (error) {\n",
              "        console.error('Error during call to suggestCharts:', error);\n",
              "      }\n",
              "      quickchartButtonEl.classList.remove('colab-df-spinner');\n",
              "      quickchartButtonEl.classList.add('colab-df-quickchart-complete');\n",
              "    }\n",
              "    (() => {\n",
              "      let quickchartButtonEl =\n",
              "        document.querySelector('#df-5e24c956-bd30-4658-a8fd-0971c9c04a7d button');\n",
              "      quickchartButtonEl.style.display =\n",
              "        google.colab.kernel.accessAllowed ? 'block' : 'none';\n",
              "    })();\n",
              "  </script>\n",
              "</div>\n",
              "\n",
              "    </div>\n",
              "  </div>\n"
            ],
            "application/vnd.google.colaboratory.intrinsic+json": {
              "type": "dataframe",
              "variable_name": "data",
              "summary": "{\n  \"name\": \"data\",\n  \"rows\": 5572,\n  \"fields\": [\n    {\n      \"column\": \"label\",\n      \"properties\": {\n        \"dtype\": \"category\",\n        \"num_unique_values\": 2,\n        \"samples\": [\n          \"spam\",\n          \"ham\"\n        ],\n        \"semantic_type\": \"\",\n        \"description\": \"\"\n      }\n    },\n    {\n      \"column\": \"message\",\n      \"properties\": {\n        \"dtype\": \"string\",\n        \"num_unique_values\": 5169,\n        \"samples\": [\n          \"Did u download the fring app?\",\n          \"Pass dis to all ur contacts n see wat u get! Red;i'm in luv wid u. Blue;u put a smile on my face. Purple;u r realy hot. Pink;u r so swt. Orange;i thnk i lyk u. Green;i realy wana go out wid u. Yelow;i wnt u bck. Black;i'm jealous of u. Brown;i miss you Nw plz giv me one color\"\n        ],\n        \"semantic_type\": \"\",\n        \"description\": \"\"\n      }\n    }\n  ]\n}"
            }
          },
          "metadata": {},
          "execution_count": 24
        }
      ]
    },
    {
      "cell_type": "markdown",
      "metadata": {
        "id": "oIjxagJy9S8_"
      },
      "source": [
        "The last thing I'm going to do before we look at the text is change the labels to numeric (1 = spam). Remember, in binary classification we usually want to make the minority outcome the positive class, since it is usually what we're interested in. While I'm at it, let's examine the balance between the classes."
      ]
    },
    {
      "cell_type": "code",
      "metadata": {
        "id": "KoYaMK4n9nuD",
        "colab": {
          "base_uri": "https://localhost:8080/"
        },
        "outputId": "3e0141ec-3561-4355-b9a5-898f73e75590"
      },
      "source": [
        "# Change spam = 1, ham = 0\n",
        "data.label = (data.label == 'spam').astype(float)\n",
        "\n",
        "print(data.head(5),'\\n\\n')\n",
        "\n",
        "# Compute proportion of spam observations\n",
        "spam_proportion = round(data.label.sum()/len(data), 2)\n",
        "print('Spam labels make up approximately {} percent of the dataset'.format(spam_proportion))"
      ],
      "execution_count": 25,
      "outputs": [
        {
          "output_type": "stream",
          "name": "stdout",
          "text": [
            "   label                                            message\n",
            "0    0.0  Go until jurong point, crazy.. Available only ...\n",
            "1    0.0                      Ok lar... Joking wif u oni...\n",
            "2    1.0  Free entry in 2 a wkly comp to win FA Cup fina...\n",
            "3    0.0  U dun say so early hor... U c already then say...\n",
            "4    0.0  Nah I don't think he goes to usf, he lives aro... \n",
            "\n",
            "\n",
            "Spam labels make up approximately 0.13 percent of the dataset\n"
          ]
        }
      ]
    },
    {
      "cell_type": "markdown",
      "metadata": {
        "id": "RCLU5PJw_M4h"
      },
      "source": [
        "So we have about an 87/13 split, which is very imbalanced. Keep this in mind later, when we fit a classifier and evaluate its performance. Let's see an example of each type of message:"
      ]
    },
    {
      "cell_type": "code",
      "metadata": {
        "id": "wrJY8WjYB727",
        "colab": {
          "base_uri": "https://localhost:8080/"
        },
        "outputId": "40a24d08-9b51-4ca4-b0f1-064620d01f46"
      },
      "source": [
        "np.random.seed(16)\n",
        "print_random_message()\n",
        "print_random_message()"
      ],
      "execution_count": 26,
      "outputs": [
        {
          "output_type": "stream",
          "name": "stdout",
          "text": [
            "Here is one of the messages:\n",
            " Shop till u Drop, IS IT YOU, either 10K, 5K, å£500 Cash or å£100 Travel voucher, Call now, 09064011000. NTT PO Box CR01327BT fixedline Cost 150ppm mobile vary\n",
            "It is labelled as:\n",
            " spam\n",
            "Here is one of the messages:\n",
            " Ok anyway no need to change with what you said\n",
            "It is labelled as:\n",
            " ham\n"
          ]
        }
      ]
    },
    {
      "cell_type": "markdown",
      "metadata": {
        "id": "6NEkVTryB_TO"
      },
      "source": [
        "<br>\n",
        "\n",
        "<br>\n",
        "\n",
        "__Q: Looking at the two messages above, and using your own intuition, what characteristics do you think SPAM emails have that HAM emails do not?__\n",
        "\n",
        "<br>"
      ]
    },
    {
      "cell_type": "code",
      "source": [
        "# Answer"
      ],
      "metadata": {
        "id": "pY9W5StMG-Kp"
      },
      "execution_count": 27,
      "outputs": []
    },
    {
      "cell_type": "markdown",
      "metadata": {
        "id": "wlBmzSUOn_MX"
      },
      "source": [
        "## 4. Tokenization and Cleaning\n",
        "\n",
        "<br>\n",
        "\n",
        "- In terms of predictive power, using an entire sentence (or series of sentences) is not very effective. Most of the words won't matter for predicting spam, but certain groups of characters can be very important. First, some terminology:\n",
        "\n",
        "- In NLP, we call a single observation of text a __document__. In this case, our documents are emails, but they could be tweets, patents, cheques, web pages, etc...\n",
        "\n",
        "- A collection of documents (ie an entire text dataset) is called a __corpus__. There are many publically available corpora online, if you ever want to build your own models\n",
        "\n",
        "- We are interesting in splitting the documents into useful, informative units called __tokens__. Tokens are often just words, but they don't have to be. For instance, the token `'t`, when present to the right of the word `can`, will completely change the meaning of a sentence. The process of converting raw text into tokens is called __tokenization__.\n",
        "\n",
        "<br>\n",
        "\n",
        "There are a handful of great python libraries designed specifically for processing text. The one we'll use today is called `nltk`, which stands for Natural Language Tool Kit.\n",
        "- The first thing we'll want to do is tokenize the documents in our corpus:"
      ]
    },
    {
      "cell_type": "code",
      "metadata": {
        "id": "lIAlPKNFu8KX",
        "colab": {
          "base_uri": "https://localhost:8080/"
        },
        "outputId": "b821848d-45b0-4471-9f0a-b08985f9db1e"
      },
      "source": [
        "import nltk\n",
        "# Download the tokenizer\n",
        "nltk.download('punkt')\n",
        "\n",
        "# Create a new column in our DF that contains token lists instead of raw text\n",
        "data['tokens'] = data['message'].apply(nltk.word_tokenize)\n",
        "\n",
        "print(data['tokens'].head(5))"
      ],
      "execution_count": 28,
      "outputs": [
        {
          "output_type": "stream",
          "name": "stderr",
          "text": [
            "[nltk_data] Downloading package punkt to /root/nltk_data...\n",
            "[nltk_data]   Unzipping tokenizers/punkt.zip.\n"
          ]
        },
        {
          "output_type": "stream",
          "name": "stdout",
          "text": [
            "0    [Go, until, jurong, point, ,, crazy, .., Avail...\n",
            "1             [Ok, lar, ..., Joking, wif, u, oni, ...]\n",
            "2    [Free, entry, in, 2, a, wkly, comp, to, win, F...\n",
            "3    [U, dun, say, so, early, hor, ..., U, c, alrea...\n",
            "4    [Nah, I, do, n't, think, he, goes, to, usf, ,,...\n",
            "Name: tokens, dtype: object\n"
          ]
        }
      ]
    },
    {
      "cell_type": "markdown",
      "metadata": {
        "id": "Icbb2mkIJn2Y"
      },
      "source": [
        "Notice the 5th row of our printout: nltk's word tokenizer has automatically recognized that `n't` should be its own token. This would by very difficult to do by hand.\n",
        "\n",
        "- Another step we might want to take is to convert all our tokens into lowercase. This prevents a word at the beginning of a sentence from being treated as a separate token from other occurrences later in sentences."
      ]
    },
    {
      "cell_type": "code",
      "metadata": {
        "id": "8ThIIP9haNNN",
        "colab": {
          "base_uri": "https://localhost:8080/"
        },
        "outputId": "e83c6e3c-73dd-4d35-a075-079d92602850"
      },
      "source": [
        "##### Convert tokens into lowercase ####\n",
        "lowercase_tokens = []\n",
        "# Create a list of lists with what we want\n",
        "for row in data['tokens']:\n",
        "  lowercase_tokens.append([t.lower() for t in row])\n",
        "# add the new info to our df\n",
        "data['lowercase_tokens'] = lowercase_tokens\n",
        "\n",
        "print(data['lowercase_tokens'].head(5))"
      ],
      "execution_count": 29,
      "outputs": [
        {
          "output_type": "stream",
          "name": "stdout",
          "text": [
            "0    [go, until, jurong, point, ,, crazy, .., avail...\n",
            "1             [ok, lar, ..., joking, wif, u, oni, ...]\n",
            "2    [free, entry, in, 2, a, wkly, comp, to, win, f...\n",
            "3    [u, dun, say, so, early, hor, ..., u, c, alrea...\n",
            "4    [nah, i, do, n't, think, he, goes, to, usf, ,,...\n",
            "Name: lowercase_tokens, dtype: object\n"
          ]
        }
      ]
    },
    {
      "cell_type": "markdown",
      "metadata": {
        "id": "y8gbSCNWfFF4"
      },
      "source": [
        "Now all tokens are lowercase. We could have also done these last two steps in opposite order, converting raw strings to lowercase and then tokenizing.\n",
        "\n",
        "<br>\n",
        "\n",
        "- Another thing we might want to do is remove punctuation. Again, since some tokens may have punctuation marks attached, this might prevent otherwise identical words from being treated as identical. We can use the regex functions to help here. Instead of listing all forms of punctuation (some of which, like `.` or `?`, would require the escape character), we can be a bit more clever, and remove all punctuation and special characters at once.\n",
        "- Remember that `\\w` is used to denote any alphanumeric character (it also allows underscores) and `\\s` denotes whitespace"
      ]
    },
    {
      "cell_type": "code",
      "metadata": {
        "id": "6_oLg_YSf7cN",
        "colab": {
          "base_uri": "https://localhost:8080/"
        },
        "outputId": "4cba29ec-10fa-4f03-c842-0a1e2459dd2b"
      },
      "source": [
        "##### Let's remove punctuation #####\n",
        "\n",
        "# Note we've been keeping different columns for different steps (not necessary)\n",
        "list(data)\n",
        "\n",
        "# Same process as before\n",
        "tokens_no_punct = []\n",
        "# Create a list of lists with what we want\n",
        "for row in data['lowercase_tokens']:\n",
        "  tokens_no_punct.append([re.sub('[^\\w\\s]','', t) for t in row])\n",
        "# add the new info to our df\n",
        "data['tokens_no_punct'] = tokens_no_punct\n",
        "\n",
        "print(data['tokens_no_punct'].head(5))\n"
      ],
      "execution_count": 30,
      "outputs": [
        {
          "output_type": "stream",
          "name": "stdout",
          "text": [
            "0    [go, until, jurong, point, , crazy, , availabl...\n",
            "1                   [ok, lar, , joking, wif, u, oni, ]\n",
            "2    [free, entry, in, 2, a, wkly, comp, to, win, f...\n",
            "3    [u, dun, say, so, early, hor, , u, c, already,...\n",
            "4    [nah, i, do, nt, think, he, goes, to, usf, , h...\n",
            "Name: tokens_no_punct, dtype: object\n"
          ]
        }
      ]
    },
    {
      "cell_type": "markdown",
      "metadata": {
        "id": "U0OQNE9gh01Y"
      },
      "source": [
        "The carat symbol `^` is used for negation, so the regex in the above process is read as: 'Remove all characters that are not alphanumeric or whitespace'. We do this for every token in the list, and for each token list in our DF.\n",
        "\n",
        "- Be careful when removing all special characters. Sometimes certain symbols can have important meaning, and you dont' want them removed. In that case, your search pattern will have to be a bit more refined.\n",
        "\n",
        "<br>\n",
        "\n",
        "<br>\n",
        "\n",
        "__Q: Can you think of an example where we might want to keep a certain special character?__"
      ]
    },
    {
      "cell_type": "code",
      "metadata": {
        "id": "9XwxsULdi4ph"
      },
      "source": [
        "# Answer"
      ],
      "execution_count": 31,
      "outputs": []
    },
    {
      "cell_type": "markdown",
      "metadata": {
        "id": "YOA1iGL9kXSF"
      },
      "source": [
        "<br>\n",
        "\n",
        "<br>\n",
        "\n",
        "Another common step is to remove words that we know will be in almost every document. These are called __stopwords__, and because they are used so often, they won't have any predictive power in most models (there are some rare exceptions, but they do not apply here). To avoid adding unnecessary noise, we can remove such words. `nltk` provides a list of almost 200 such words:"
      ]
    },
    {
      "cell_type": "code",
      "metadata": {
        "id": "WO5ZYP97lIwI",
        "colab": {
          "base_uri": "https://localhost:8080/"
        },
        "outputId": "8d58cc1d-d8f6-4bdd-c933-3a0482527e86"
      },
      "source": [
        "##### Time to remove Stopwords #####\n",
        "\n",
        "from nltk.corpus import stopwords\n",
        "nltk.download('stopwords')\n",
        "# print the top 75 most popular english words\n",
        "sw = stopwords.words('english')[:75]\n",
        "\n",
        "# I converted to np array for better printing\n",
        "print(np.array(sw).reshape((15,5)))"
      ],
      "execution_count": 32,
      "outputs": [
        {
          "output_type": "stream",
          "name": "stdout",
          "text": [
            "[['i' 'me' 'my' 'myself' 'we']\n",
            " ['our' 'ours' 'ourselves' 'you' \"you're\"]\n",
            " [\"you've\" \"you'll\" \"you'd\" 'your' 'yours']\n",
            " ['yourself' 'yourselves' 'he' 'him' 'his']\n",
            " ['himself' 'she' \"she's\" 'her' 'hers']\n",
            " ['herself' 'it' \"it's\" 'its' 'itself']\n",
            " ['they' 'them' 'their' 'theirs' 'themselves']\n",
            " ['what' 'which' 'who' 'whom' 'this']\n",
            " ['that' \"that'll\" 'these' 'those' 'am']\n",
            " ['is' 'are' 'was' 'were' 'be']\n",
            " ['been' 'being' 'have' 'has' 'had']\n",
            " ['having' 'do' 'does' 'did' 'doing']\n",
            " ['a' 'an' 'the' 'and' 'but']\n",
            " ['if' 'or' 'because' 'as' 'until']\n",
            " ['while' 'of' 'at' 'by' 'for']]\n"
          ]
        },
        {
          "output_type": "stream",
          "name": "stderr",
          "text": [
            "[nltk_data] Downloading package stopwords to /root/nltk_data...\n",
            "[nltk_data]   Unzipping corpora/stopwords.zip.\n"
          ]
        }
      ]
    },
    {
      "cell_type": "code",
      "metadata": {
        "id": "4JjINa6XmhWH",
        "colab": {
          "base_uri": "https://localhost:8080/"
        },
        "outputId": "2fc12db5-0866-4ae3-9a2f-615ef39e42fb"
      },
      "source": [
        "# Now let's remove them\n",
        "tokens_no_sw = []\n",
        "for row in data['tokens_no_punct']:\n",
        "  tokens_no_sw.append([w for w in row if w not in sw])\n",
        "# Add column to df\n",
        "data['tokens_no_sw'] = tokens_no_sw\n",
        "\n",
        "# Print some examples\n",
        "print(data['tokens_no_sw'].tail(5))"
      ],
      "execution_count": 33,
      "outputs": [
        {
          "output_type": "stream",
          "name": "stdout",
          "text": [
            "5567    [2nd, time, tried, 2, contact, u, u, won, å750...\n",
            "5568      [will, ì_, b, going, to, esplanade, fr, home, ]\n",
            "5569    [pity, , , in, mood, , so, , any, other, sugge...\n",
            "5570    [guy, some, bitching, acted, like, d, interest...\n",
            "5571                             [rofl, , true, to, name]\n",
            "Name: tokens_no_sw, dtype: object\n"
          ]
        }
      ]
    },
    {
      "cell_type": "markdown",
      "metadata": {
        "id": "ONC95oC2nQGy"
      },
      "source": [
        "This looks good (but not great). Clearly there are other steps we could take (for instance, treating 'u' and 'you' as equal. But for the sake of time, we'll move on for now. In practice, it is very difficult to get a perfectly clean text dataset (things like typos/spelling errors, shorthand, slang, and redundancy (!?!?!!!) would still need to be dealt with).\n",
        "\n",
        "<br>\n",
        "\n",
        "<br>\n",
        "\n",
        "__Q: With this analysis, we've assumed that the basic unit of interest is an individual word (or something representing one). Can you think of a case where we might want to use tokens made of more than 1 word?__"
      ]
    },
    {
      "cell_type": "markdown",
      "metadata": {
        "id": "-k0i71nPoVQR"
      },
      "source": [
        "<br>\n",
        "\n",
        "__Answer__:"
      ]
    },
    {
      "cell_type": "markdown",
      "metadata": {
        "id": "e8ZyRfGlonYK"
      },
      "source": [
        "<br>\n",
        "\n",
        "## 5. Stemming and Lemmatization\n",
        "\n",
        "In language processing, __stemming__ is the process of removing the suffixes of a word, thus reducing the word to its stem. This allows different tenses of the same word to be treated as the same token. Most stemmers are written as huge lists of handmapped words/tokens. Perhaps the most common of these is the __Porter Stemmer__. Again, `nltk` has us covered here:"
      ]
    },
    {
      "cell_type": "code",
      "metadata": {
        "id": "hcL-d-kItvDF",
        "colab": {
          "base_uri": "https://localhost:8080/"
        },
        "outputId": "f3a5eb66-cc25-4a26-c40d-79ba7b1e8e20"
      },
      "source": [
        "#### Stemming tokens ####\n",
        "from nltk.stem.porter import *\n",
        "\n",
        "my_tokens = ['run','running', 'hike', 'hiking', 'apple', 'apples', 'knife', 'knives']\n",
        "stemmer = PorterStemmer()\n",
        "\n",
        "token_stems = [stemmer.stem(w) for w in my_tokens]\n",
        "\n",
        "print('Original tokens:\\n',my_tokens)\n",
        "print('Stemmed tokens',token_stems)"
      ],
      "execution_count": 34,
      "outputs": [
        {
          "output_type": "stream",
          "name": "stdout",
          "text": [
            "Original tokens:\n",
            " ['run', 'running', 'hike', 'hiking', 'apple', 'apples', 'knife', 'knives']\n",
            "Stemmed tokens ['run', 'run', 'hike', 'hike', 'appl', 'appl', 'knife', 'knive']\n"
          ]
        }
      ]
    },
    {
      "cell_type": "markdown",
      "metadata": {
        "id": "ziaTyQ1Hu4Ie"
      },
      "source": [
        "We can see that stemming helps in some cases, but it is not perfect. The Porter stemmer is not our only option:"
      ]
    },
    {
      "cell_type": "code",
      "metadata": {
        "id": "lFMQuGOlu_Xx",
        "colab": {
          "base_uri": "https://localhost:8080/"
        },
        "outputId": "8247d703-3472-4ee7-a845-e2a331b1dd19"
      },
      "source": [
        "#### Let's try a SnowBall Stemmer ####\n",
        "from nltk.stem.snowball import SnowballStemmer\n",
        "\n",
        "stemmer = SnowballStemmer('english')\n",
        "token_stems = [stemmer.stem(w) for w in my_tokens]\n",
        "\n",
        "print('Original tokens:\\n',my_tokens)\n",
        "print('Stemmed tokens',token_stems)"
      ],
      "execution_count": 35,
      "outputs": [
        {
          "output_type": "stream",
          "name": "stdout",
          "text": [
            "Original tokens:\n",
            " ['run', 'running', 'hike', 'hiking', 'apple', 'apples', 'knife', 'knives']\n",
            "Stemmed tokens ['run', 'run', 'hike', 'hike', 'appl', 'appl', 'knife', 'knive']\n"
          ]
        }
      ]
    },
    {
      "cell_type": "markdown",
      "metadata": {
        "id": "T42BQtyLvYMX"
      },
      "source": [
        "We can see that most stemmers run into the same kind of problems with english irregularities. Nevertheless, stemming is effective for most regular word forms, so let's use it on our data:\n"
      ]
    },
    {
      "cell_type": "code",
      "metadata": {
        "id": "hObYI-i3vz19",
        "colab": {
          "base_uri": "https://localhost:8080/"
        },
        "outputId": "843912d5-6102-4e92-a774-ef06b47e37e1"
      },
      "source": [
        "### Stemming our dataset (Snowball Stemmer) ###\n",
        "stemmed_tokens = []\n",
        "for row in data['tokens_no_sw']:\n",
        "  stemmed_tokens.append([stemmer.stem(t) for t in row])\n",
        "\n",
        "data['stemmed_tokens'] = stemmed_tokens\n",
        "\n",
        "# Print results\n",
        "print('Before stemming:\\n', data['tokens_no_sw'].head(3))\n",
        "print('After stemming:\\n', data['stemmed_tokens'].head(3))"
      ],
      "execution_count": 36,
      "outputs": [
        {
          "output_type": "stream",
          "name": "stdout",
          "text": [
            "Before stemming:\n",
            " 0    [go, jurong, point, , crazy, , available, only...\n",
            "1                   [ok, lar, , joking, wif, u, oni, ]\n",
            "2    [free, entry, in, 2, wkly, comp, to, win, fa, ...\n",
            "Name: tokens_no_sw, dtype: object\n",
            "After stemming:\n",
            " 0    [go, jurong, point, , crazi, , avail, onli, in...\n",
            "1                     [ok, lar, , joke, wif, u, oni, ]\n",
            "2    [free, entri, in, 2, wkli, comp, to, win, fa, ...\n",
            "Name: stemmed_tokens, dtype: object\n"
          ]
        }
      ]
    },
    {
      "cell_type": "markdown",
      "metadata": {
        "id": "_AMpW_DjxAVH"
      },
      "source": [
        "The result is what we might expect. Some good, some bad. Is there a more thorough approach?\n",
        "\n",
        "<br>\n",
        "\n",
        "__Lemmatization__ converts a word/token to the base(dictionary) form of the word. Although it is more difficult to implement, it is also stronger than just stemming. `nltk` also contains built-in lemmatizers. One of the most popular ones is called the __WordNet__ lemmatizer."
      ]
    },
    {
      "cell_type": "code",
      "metadata": {
        "id": "xyPOE0zWxi-5",
        "colab": {
          "base_uri": "https://localhost:8080/"
        },
        "outputId": "a64da048-295c-4bc4-9df9-41edd14f15d2"
      },
      "source": [
        "#### Lemmatizing Words ####\n",
        "from nltk.stem import WordNetLemmatizer\n",
        "nltk.download('wordnet')\n",
        "\n",
        "my_tokens = ['eat', 'ate', 'walk', 'walked', 'buy', 'bought', 'apple', 'apples', 'knife', 'knives']\n",
        "\n",
        "lemmatizer = WordNetLemmatizer()\n",
        "\n",
        "lem_tokens = [lemmatizer.lemmatize(t) for t in my_tokens]\n",
        "\n",
        "# Print results\n",
        "print('Before lemmatizing:\\n', my_tokens)\n",
        "print('After lemmatizing:\\n', lem_tokens)"
      ],
      "execution_count": 37,
      "outputs": [
        {
          "output_type": "stream",
          "name": "stderr",
          "text": [
            "[nltk_data] Downloading package wordnet to /root/nltk_data...\n"
          ]
        },
        {
          "output_type": "stream",
          "name": "stdout",
          "text": [
            "Before lemmatizing:\n",
            " ['eat', 'ate', 'walk', 'walked', 'buy', 'bought', 'apple', 'apples', 'knife', 'knives']\n",
            "After lemmatizing:\n",
            " ['eat', 'ate', 'walk', 'walked', 'buy', 'bought', 'apple', 'apple', 'knife', 'knife']\n"
          ]
        }
      ]
    },
    {
      "cell_type": "markdown",
      "metadata": {
        "id": "2qF5nOMazBRU"
      },
      "source": [
        "We can see it still struggles with some aspects of the language (like plurals). But overall, it helps. Let's lemmatize our dataset:"
      ]
    },
    {
      "cell_type": "code",
      "metadata": {
        "id": "YiSHBlepzQev",
        "colab": {
          "base_uri": "https://localhost:8080/"
        },
        "outputId": "fa1f0bf2-aa82-4317-bd52-24ffdfc6a680"
      },
      "source": [
        "#### Lemmatize the Dataset ####\n",
        "\n",
        "lem_tokens = []\n",
        "for row in data['tokens_no_sw']:\n",
        "  lem_tokens.append([lemmatizer.lemmatize(t) for t in row])\n",
        "\n",
        "data['lem_tokens'] = lem_tokens\n",
        "\n",
        "# Print results\n",
        "print(data['lem_tokens'].head(5))"
      ],
      "execution_count": 38,
      "outputs": [
        {
          "output_type": "stream",
          "name": "stdout",
          "text": [
            "0    [go, jurong, point, , crazy, , available, only...\n",
            "1                   [ok, lar, , joking, wif, u, oni, ]\n",
            "2    [free, entry, in, 2, wkly, comp, to, win, fa, ...\n",
            "3    [u, dun, say, so, early, hor, , u, c, already,...\n",
            "4    [nah, nt, think, go, to, usf, , life, around, ...\n",
            "Name: lem_tokens, dtype: object\n"
          ]
        }
      ]
    },
    {
      "cell_type": "markdown",
      "metadata": {
        "id": "JRGjw9upzxWw"
      },
      "source": [
        "This is much better than what we had in the beginning. Note that we could also lemmatize, then stem, which would work better than either method individually.Before moving on to vectorization, I'll just do a bit more tidying. Notice that we have some tokens represented only by empty strings. I'll remove those. I'll also drop some of our intermediate columns."
      ]
    },
    {
      "cell_type": "code",
      "metadata": {
        "id": "rmAdcSFD2r6z",
        "colab": {
          "base_uri": "https://localhost:8080/"
        },
        "outputId": "f5351101-79e7-438a-e480-220a4f5f522f"
      },
      "source": [
        "# Drop some intermediate columns\n",
        "list(data)\n",
        "data = data.drop(['tokens','lowercase_tokens', 'tokens_no_punct','tokens_no_sw','stemmed_tokens'], axis = 1)\n",
        "\n",
        "print('After removal:\\n', list(data))\n",
        "\n",
        "# Remove blank tokens\n",
        "no_blanks = []\n",
        "for row in data['lem_tokens']:\n",
        "  no_blanks.append([t for t in row if t != ''])\n",
        "data['tokens'] = no_blanks\n",
        "\n",
        "print(data['tokens'].head(5))\n",
        "\n",
        "# drop the last intermediate column\n",
        "data = data.drop(['lem_tokens'], axis = 1)\n",
        "\n",
        "# Now we should have only the label, original text, and cleaned token lists\n",
        "print('Current Columns:\\n',list(data))"
      ],
      "execution_count": 39,
      "outputs": [
        {
          "output_type": "stream",
          "name": "stdout",
          "text": [
            "After removal:\n",
            " ['label', 'message', 'lem_tokens']\n",
            "0    [go, jurong, point, crazy, available, only, in...\n",
            "1                       [ok, lar, joking, wif, u, oni]\n",
            "2    [free, entry, in, 2, wkly, comp, to, win, fa, ...\n",
            "3    [u, dun, say, so, early, hor, u, c, already, t...\n",
            "4    [nah, nt, think, go, to, usf, life, around, he...\n",
            "Name: tokens, dtype: object\n",
            "Current Columns:\n",
            " ['label', 'message', 'tokens']\n"
          ]
        }
      ]
    },
    {
      "cell_type": "markdown",
      "metadata": {
        "id": "XFUdMO0x6RkM"
      },
      "source": [
        "Ok great. Now we have a much cleaner dataset, which we can use to run a model. But before we do this, we need to think about how to represent text as features....\n",
        "\n",
        "<br>\n",
        "\n",
        "<br>"
      ]
    },
    {
      "cell_type": "markdown",
      "metadata": {
        "id": "0GePUkE3oE8y"
      },
      "source": [
        "## 6. Vectorizing Token Collections\n",
        "\n",
        "<br>\n",
        "\n",
        "One of the key assumptions in NLP is called the __Distributional Hypothesis__. It says (roughly) that words used in the same context tend to have similar meanings. Put differently, 'A word is characterized by the company it keeps' (JR Firth, 1950).\n",
        "- What this means for us is that similar documents will contain similar words/tokens.\n",
        "- But how to measure this similarity?\n",
        "\n",
        "<br>\n",
        "\n",
        "__Text Vectorization__ is the process of converting text features into a numerical representation.\n",
        "\n",
        "<br>\n",
        "\n",
        "<br>\n",
        "\n",
        "__Q: What are some ways we can represent text as numbers?__"
      ]
    },
    {
      "cell_type": "markdown",
      "metadata": {
        "id": "vi6gOxouHh_c"
      },
      "source": [
        "<br>\n",
        "\n",
        "There are many common ways of turning our tokens into a matrix. The most popular is through the use of a __term-document matrix__, or __token-document matrix__\n",
        "- Suppose I have two documents(movie reviews):\n",
        "\n",
        "    Doc1: _'No surprises and very few laughs'_\n",
        "\n",
        "    Doc2: _'Very powerful. I was surprised.'_\n",
        "\n",
        "After preprocesssing like we did above, the term document matrix might look like the following:\n",
        "$$\n",
        "\\begin{array}{ c c c }\n",
        " Token & Doc 1 & Doc 2 \\\\\n",
        " \\hline\n",
        " no & 1 & 0 \\\\  \n",
        " suprise & 1 & 1 \\\\\n",
        " very & 1 & 1 \\\\\n",
        " few & 1 & 0 \\\\\n",
        " laugh & 1 & 0 \\\\\n",
        " power & 0 & 1   \n",
        "\\end{array}$$\n",
        "This matrix needn't contain the presence/absence of a word. We can also populate it with word counts, or with custom measures, such as __Term-Frequency Inverse Document-Frequency (TF-IDF)__. This is equal to the product of term frequency (i.e. the number of times token t appears in document d) multiplied by the inverse of document frequency (the proportion of all documents containing token t). This measure controls for the fact that one word used many times in a small number of documents could mistakenly upweight the probabilities associated with certain classes under the BOW model.\n",
        "\n",
        "We don't have to vectorize by hand though. `Scikit-learn` has built in methods to do this.\n",
        "- Note that the following methods are also designed to do some preprocessing and tokenizing, so the default input is raw strings. Since we've already done these steps, I will use a dummy function to override these components. The output will be our term-document matrix as a Scipy sparse matrix, which we can convert to a numpy array.\n",
        "- I will then split the data into training and testing sets.\n",
        "\n"
      ]
    },
    {
      "cell_type": "code",
      "metadata": {
        "id": "VsUKbiXis-92",
        "colab": {
          "base_uri": "https://localhost:8080/",
          "height": 338
        },
        "outputId": "2687605c-31e6-407a-fb8b-3e14841120c7"
      },
      "source": [
        "from sklearn.feature_extraction.text import TfidfTransformer # used in next cell\n",
        "from sklearn.feature_extraction.text import CountVectorizer\n",
        "from sklearn.model_selection import train_test_split\n",
        "\n",
        "# Separate labels from features, converting to numpy arrays\n",
        "X, y = data['tokens'].to_numpy(), data['label'].to_numpy()\n",
        "\n",
        "\n",
        "def override_fcn(doc):\n",
        "  # We expect a list of tokens as input\n",
        "  return doc\n",
        "\n",
        "# Count Vectorizer\n",
        "count_vec = CountVectorizer(\n",
        "    analyzer='word',\n",
        "    tokenizer= override_fcn,\n",
        "    preprocessor= override_fcn,\n",
        "    token_pattern= None,\n",
        "    max_features = 1000)\n",
        "\n",
        "# Remember this output is a Scipy Sparse Array\n",
        "counts = count_vec.fit_transform(X)\n",
        "print(counts.toarray())\n",
        "\n",
        "# Print the names of each of the features (1000 total))\n",
        "print(count_vec.get_feature_names())\n",
        "# Print this mapping as dictionary\n",
        "print(count_vec.vocabulary_)\n",
        "\n",
        "## Which row represents 'great'\n",
        "print('\\nGreat is located at row: ',count_vec.vocabulary_['great'])"
      ],
      "execution_count": 40,
      "outputs": [
        {
          "output_type": "stream",
          "name": "stdout",
          "text": [
            "[[0 0 0 ... 0 0 0]\n",
            " [0 0 0 ... 0 0 0]\n",
            " [0 0 0 ... 0 0 0]\n",
            " ...\n",
            " [0 0 0 ... 0 0 0]\n",
            " [0 0 0 ... 0 0 0]\n",
            " [0 0 0 ... 0 0 0]]\n"
          ]
        },
        {
          "output_type": "error",
          "ename": "AttributeError",
          "evalue": "'CountVectorizer' object has no attribute 'get_feature_names'",
          "traceback": [
            "\u001b[0;31m---------------------------------------------------------------------------\u001b[0m",
            "\u001b[0;31mAttributeError\u001b[0m                            Traceback (most recent call last)",
            "\u001b[0;32m<ipython-input-40-536dfe35b4ed>\u001b[0m in \u001b[0;36m<cell line: 26>\u001b[0;34m()\u001b[0m\n\u001b[1;32m     24\u001b[0m \u001b[0;34m\u001b[0m\u001b[0m\n\u001b[1;32m     25\u001b[0m \u001b[0;31m# Print the names of each of the features (1000 total))\u001b[0m\u001b[0;34m\u001b[0m\u001b[0;34m\u001b[0m\u001b[0m\n\u001b[0;32m---> 26\u001b[0;31m \u001b[0mprint\u001b[0m\u001b[0;34m(\u001b[0m\u001b[0mcount_vec\u001b[0m\u001b[0;34m.\u001b[0m\u001b[0mget_feature_names\u001b[0m\u001b[0;34m(\u001b[0m\u001b[0;34m)\u001b[0m\u001b[0;34m)\u001b[0m\u001b[0;34m\u001b[0m\u001b[0;34m\u001b[0m\u001b[0m\n\u001b[0m\u001b[1;32m     27\u001b[0m \u001b[0;31m# Print this mapping as dictionary\u001b[0m\u001b[0;34m\u001b[0m\u001b[0;34m\u001b[0m\u001b[0m\n\u001b[1;32m     28\u001b[0m \u001b[0mprint\u001b[0m\u001b[0;34m(\u001b[0m\u001b[0mcount_vec\u001b[0m\u001b[0;34m.\u001b[0m\u001b[0mvocabulary_\u001b[0m\u001b[0;34m)\u001b[0m\u001b[0;34m\u001b[0m\u001b[0;34m\u001b[0m\u001b[0m\n",
            "\u001b[0;31mAttributeError\u001b[0m: 'CountVectorizer' object has no attribute 'get_feature_names'"
          ]
        }
      ]
    },
    {
      "cell_type": "markdown",
      "metadata": {
        "id": "Y16poRsBU3yT"
      },
      "source": [
        "- Note that TFIDF __transformer__ requires you to first run `CountVectorizer`"
      ]
    },
    {
      "cell_type": "code",
      "metadata": {
        "id": "npCbiPXxSvNU"
      },
      "source": [
        "#### TF-IDF Vectorize ####\n",
        "\n",
        "# Note that smoothing is done by default\n",
        "tfidf = TfidfTransformer()\n",
        "\n",
        "tfs = tfidf.fit_transform(counts)\n",
        "\n",
        "print(tfs.toarray())\n",
        "\n",
        "# Let's use the TFIDF counts for modelling\n",
        "X = tfs.toarray()\n",
        "\n",
        "# Split the data into training and test sets\n",
        "X_train, X_test, y_train, y_test = train_test_split(X, y, test_size = 0.2, random_state = 42)\n",
        "\n",
        "# First three rows of training features and labels\n",
        "print('First 3 features:\\n',X_train[:3])\n",
        "print('First 3 labels:\\n',y_train[:3])"
      ],
      "execution_count": null,
      "outputs": []
    },
    {
      "cell_type": "markdown",
      "metadata": {
        "id": "oqASO5dQn8Wd"
      },
      "source": [
        "<br>\n",
        "\n",
        "## 7. Binary Classification with the Naive Bayes Model\n",
        "\n",
        "__The Basic Setup__\n",
        "\n",
        "- We're interested in classifying our documents into two classes. Let's call these classes $S$ and $H$, for Spam and Ham. How might we use our tokens to predict the class?\n",
        "- __Idea__: Let's try to model the probabilities of each class __conditional on the tokens in the document__. Suppose our message has D tokens. It might not be obvious how to do this, but we can rely on Bayes Rule:\n",
        "\n",
        "$$ Pr(S|w_1 , \\cdots , w_D)  = \\frac{Pr(w_1 , \\cdots , w_D | S) Pr(S)}{Pr(w_1 , \\cdots , w_D)} \\propto Pr(w_1 , \\cdots , w_D | S) Pr(S) $$\n",
        "\n",
        "So the probability that our message is spam is equal to the probability that we get these words given the message is spam, multiplied by the probability of any message being spam (this is pretty intuitive).\n",
        "\n",
        "- __Problem__: How in the world do we estimate $Pr(w_1 , \\cdots , w_D | S)$?\n",
        "\n",
        "- __Solution__: We use a __naive__ assumption. Let's assume that words are independent of each other conditional on class (this is obviously not true in reality, but it makes our lives easier). Then we can rewrite our probability:\n",
        "\n",
        "$$ Pr(S|w_1 , \\cdots , w_D)  = \\propto \\Pi_{i=1}^{D}Pr(w_i | S) Pr(S) $$\n",
        "\n",
        "Now we have something we can estimate. Assume V is the set of all words in your training corpus. The __Naive Bayes__ approach does the following:\n",
        "- 1. Estimate $\\hat{Pr}(S) = \\frac{N_s}{N}$, where $N_s$ is the number of documents labelled as S. Similarly estimate $\\hat{Pr}(H) = 1 - \\hat{Pr}(S)$.\n",
        "- 2. For every token in every document, estimate $\\hat{Pr}(w_i|S) = \\frac{count(w_i|S)}{\\Sigma_{w \\in V} count(w_i|S)}$, where $count(w_i|S)$ is the number of times token $w_i$ appears __in all spam documents__, and $\\Sigma_{w \\in V} count(w_i|S)$ is the total number of words in all spam documents. Do a similar computation for Ham documents and tokens.\n",
        "- 3. Once we have these probabilities, we can compute $\\hat{Pr}(S|w_1 , \\cdots , w_D)$ and $\\hat{Pr}(H|w_1 , \\cdots , w_D)$ for any new document. Then we simply label that document as Spam or Ham, depending on which probability is larger.\n",
        "\n",
        "__One small problem__: If a word in the test corpus does not appear in the training corpus, it will have a count (and thus a probability) of zero. This will make the entire $\\hat{Pr}(S|w_1 , \\cdots , w_D) = 0$, even if other words in the document still have positive probability. To deal with this, we use __smoothing__, assigning every word an arbitrarily low probability. There are different ways to do this, but here is a technique called __Laplace Smoothing__:\n",
        "$$\\hat{Pr}(w_i|S) = \\frac{count(w_i|S) + 1}{\\Sigma_{w \\in V} (count(w_i|S) + 1)}$$\n",
        "\n",
        "<br>\n",
        "\n",
        "- This probability estimation approach is called __Bag of Words (BOW)__, because we treat classes and documents as collections of words, where order does not matter.\n",
        "\n",
        "This can easily be extended to the multiclass setting (which is on your assignment). But don't worry! `Scikit-learn` handles all of these calculations for you. For the case of TFIDF data, we would simply replace $count()$ in the above formula with the TFIDF score.\n"
      ]
    },
    {
      "cell_type": "code",
      "metadata": {
        "id": "45NPx7JpHLIs"
      },
      "source": [
        "from sklearn.naive_bayes import MultinomialNB\n",
        "from sklearn.metrics import accuracy_score, roc_curve\n",
        "import matplotlib.pyplot as plt\n",
        "\n",
        "# Let's fit the Naive Bayes model to our training data\n",
        "nb = MultinomialNB()\n",
        "# Fit model to training data\n",
        "nb.fit(X_train, y_train)\n",
        "# Predict on test data\n",
        "y_preds = nb.predict(X_test)\n",
        "\n",
        "print('Test accuracy with simple Naive Bayes:',accuracy_score(y_test,y_preds))\n",
        "# We get a very good accuracy, despite class imbalance (recall 87% were Ham)"
      ],
      "execution_count": null,
      "outputs": []
    },
    {
      "cell_type": "markdown",
      "metadata": {
        "id": "k7mfqKARYz4U"
      },
      "source": [
        "That was a lot of content in a short period of time.\n",
        "\n",
        "<br>\n",
        "\n",
        "<br>\n",
        "\n",
        "# __QUESTIONS?__"
      ]
    }
  ]
}