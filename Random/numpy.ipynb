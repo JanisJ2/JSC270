{
 "cells": [
  {
   "cell_type": "code",
   "execution_count": 1,
   "id": "9b19d8ce-0597-437b-aa40-45819a054e3c",
   "metadata": {},
   "outputs": [],
   "source": [
    "import numpy as np"
   ]
  },
  {
   "cell_type": "markdown",
   "id": "8cf2301f-3e62-43f5-963a-75cfd4413bd5",
   "metadata": {},
   "source": [
    "Let's say arr is a numpy array \\\n",
    "The pandas function to_array() converts pandas dfs to numpy arrays."
   ]
  },
  {
   "cell_type": "code",
   "execution_count": null,
   "id": "217cc565-04cf-4b9b-a000-dcee0d69009f",
   "metadata": {},
   "outputs": [],
   "source": [
    "# Convert list to array\n",
    "my_arr = np.array(my_list)\n",
    "# Get datatype of objects inside np array\n",
    "my_arr.dtype\n",
    "# Get shape (up to the dimension of the array) of the np array\n",
    "my_array.shape\n",
    "# Create array of zeroes\n",
    "array_of_zeros = np.zeros((3,4))\n",
    "# Create array of ones\n",
    "array_of_ones = np.ones((2,2))\n",
    "# Create identity matrix\n",
    "identity_matrix = np.eye(5)"
   ]
  },
  {
   "cell_type": "code",
   "execution_count": 2,
   "id": "5fed015b-a258-47b1-9d42-ee2a438abb91",
   "metadata": {},
   "outputs": [
    {
     "name": "stdout",
     "output_type": "stream",
     "text": [
      "Note the equal spacing:\n",
      " [ 5.   5.5  6.   6.5  7.   7.5  8.   8.5  9.   9.5 10.  10.5]\n",
      "Better control over the number of points:\n",
      " [100 111 122 133 144 155 166 177 188 200]\n"
     ]
    }
   ],
   "source": [
    "# Create arrays with regular increments as values\n",
    "equally_spaced_array = np.arange(start=5,stop=11, step=0.5, dtype=float)\n",
    "print('Note the equal spacing:\\n',equally_spaced_array)\n",
    "\n",
    "# Similar function, but you can control the number of points more easily\n",
    "spaced_10_points = np.linspace(num=10,start=100,stop=200,dtype=int)\n",
    "print('Better control over the number of points:\\n',spaced_10_points)"
   ]
  },
  {
   "cell_type": "code",
   "execution_count": null,
   "id": "0006e0a2-214a-4a13-859d-d9e2cde8328c",
   "metadata": {},
   "outputs": [],
   "source": [
    "# Read in external data\n",
    "my_csv_array = np.genfromtxt(csv_converted, delimiter=\",\")\n",
    "# Can replace csv_converted (a string) to be a filepath instead"
   ]
  },
  {
   "cell_type": "code",
   "execution_count": null,
   "id": "532ceeb0-e789-4d9b-b3f2-7345ce659a16",
   "metadata": {},
   "outputs": [],
   "source": [
    "# Custom-made np array\n",
    "row_from_scratch = np.array([2,1,4,8])\n",
    "col_from_scratch = np.array([[2],[1],[4],[8]])\n",
    "matrix_from_scratch = np.array([[2,1],[4,8]])"
   ]
  }
 ],
 "metadata": {
  "kernelspec": {
   "display_name": "Python 3 (ipykernel)",
   "language": "python",
   "name": "python3"
  },
  "language_info": {
   "codemirror_mode": {
    "name": "ipython",
    "version": 3
   },
   "file_extension": ".py",
   "mimetype": "text/x-python",
   "name": "python",
   "nbconvert_exporter": "python",
   "pygments_lexer": "ipython3",
   "version": "3.12.1"
  }
 },
 "nbformat": 4,
 "nbformat_minor": 5
}
